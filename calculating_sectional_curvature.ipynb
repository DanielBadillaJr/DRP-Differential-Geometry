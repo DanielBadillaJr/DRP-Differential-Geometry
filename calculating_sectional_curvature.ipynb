{
 "cells": [
  {
   "cell_type": "code",
   "execution_count": 2,
   "id": "f6ec2bec",
   "metadata": {},
   "outputs": [],
   "source": [
    "import numpy as np\n",
    "import scipy as sp\n",
    "import sympy as smp\n",
    "import matplotlib.pyplot as plt\n",
    "from scipy.misc import derivative"
   ]
  },
  {
   "cell_type": "code",
   "execution_count": 3,
   "id": "79d07a4d",
   "metadata": {},
   "outputs": [
    {
     "name": "stdout",
     "output_type": "stream",
     "text": [
      "[t0, t1, t2, t3]\n"
     ]
    }
   ],
   "source": [
    "t0, t1, t2, t3 = smp.symbols('t0 t1 t2 t3', real=True)\n",
    "t = [t0,t1,t2,t3]\n",
    "print(t)"
   ]
  },
  {
   "cell_type": "code",
   "execution_count": 4,
   "id": "3384598b",
   "metadata": {},
   "outputs": [
    {
     "name": "stdout",
     "output_type": "stream",
     "text": [
      "[[0 0 0 0]\n",
      " [0 0 0 0]\n",
      " [0 0 0 0]\n",
      " [0 0 0 0]]\n",
      "[[1 0 0 0]\n",
      " [0 sin(t0) 0 0]\n",
      " [0 0 1 0]\n",
      " [0 0 0 sin(t2)]]\n"
     ]
    }
   ],
   "source": [
    "g = np.zeros((4,4), dtype = type(smp.sin(t0))) # for S2xS2\n",
    "print(g)\n",
    "g[0][0] = 1\n",
    "g[1][1] = smp.sin(t0)\n",
    "g[2][2] = 1\n",
    "g[3][3] = smp.sin(t2)\n",
    "print(g)"
   ]
  },
  {
   "cell_type": "code",
   "execution_count": 5,
   "id": "5b0a646b",
   "metadata": {},
   "outputs": [
    {
     "name": "stdout",
     "output_type": "stream",
     "text": [
      "[[1 0 0 0]\n",
      " [0 1/sin(t0) 0 0]\n",
      " [0 0 1 0]\n",
      " [0 0 0 1/sin(t2)]]\n"
     ]
    }
   ],
   "source": [
    "g_inv = np.zeros((4,4), dtype = type(smp.sin(t0))) # for S2xS2\n",
    "g_inv[0][0] = 1\n",
    "g_inv[1][1] = 1/smp.sin(t0)\n",
    "g_inv[2][2] = 1\n",
    "g_inv[3][3] = 1/smp.sin(t2)\n",
    "print(g_inv)"
   ]
  },
  {
   "cell_type": "code",
   "execution_count": 6,
   "id": "6b19b9ee",
   "metadata": {
    "scrolled": true
   },
   "outputs": [
    {
     "name": "stdout",
     "output_type": "stream",
     "text": [
      "[[[0 0 0 0]\n",
      "  [0 -0.5*cos(t0) 0 0]\n",
      "  [0 0 0 0]\n",
      "  [0 0 0 0]]\n",
      "\n",
      " [[0 0.5*cos(t0)/sin(t0) 0 0]\n",
      "  [0.5*cos(t0)/sin(t0) 0 0 0]\n",
      "  [0 0 0 0]\n",
      "  [0 0 0 0]]\n",
      "\n",
      " [[0 0 0 0]\n",
      "  [0 0 0 0]\n",
      "  [0 0 0 0]\n",
      "  [0 0 0 -0.5*cos(t2)]]\n",
      "\n",
      " [[0 0 0 0]\n",
      "  [0 0 0 0]\n",
      "  [0 0 0 0.5*cos(t2)/sin(t2)]\n",
      "  [0 0 0.5*cos(t2)/sin(t2) 0]]]\n"
     ]
    }
   ],
   "source": [
    "def calc_chrst():\n",
    "    chrst = np.zeros((4,4,4), dtype = type(smp.sin(t0)))\n",
    "    for k in range(4):\n",
    "        for i in range(4): \n",
    "            for j in range(4):\n",
    "                for m in range(4):\n",
    "                    chrst[k][i][j] += (1/2)*g_inv[k][m]*(smp.diff(g[m][i],t[j]) + smp.diff(g[m][j],t[i]) - smp.diff(g[i][j],t[m]))\n",
    "    return chrst\n",
    "\n",
    "print(calc_chrst())\n",
    "\n",
    "S2_chrst = calc_chrst()\n",
    "                    \n",
    "# calculated for S2xS2"
   ]
  },
  {
   "cell_type": "code",
   "execution_count": 48,
   "id": "9bfa29e9",
   "metadata": {},
   "outputs": [
    {
     "name": "stdout",
     "output_type": "stream",
     "text": [
      "[[1/s1 0 0 0]\n",
      " [0 1/s1 0 0]\n",
      " [0 0 1/s2 0]\n",
      " [0 0 0 1/s2]]\n"
     ]
    }
   ],
   "source": [
    "g = np.zeros((4,4), dtype = type(smp.sin(t0))) # for H2xH2\n",
    "g[0][0] = 1/s1\n",
    "g[1][1] = 1/s1\n",
    "g[2][2] = 1/s2\n",
    "g[3][3] = 1/s2\n",
    "print(g)"
   ]
  },
  {
   "cell_type": "code",
   "execution_count": 49,
   "id": "44ee7db0",
   "metadata": {},
   "outputs": [
    {
     "name": "stdout",
     "output_type": "stream",
     "text": [
      "[[s1 0 0 0]\n",
      " [0 s1 0 0]\n",
      " [0 0 s2 0]\n",
      " [0 0 0 s2]]\n"
     ]
    }
   ],
   "source": [
    "g_inv = np.zeros((4,4), dtype = type(smp.sin(t0))) # for H2xH2\n",
    "g_inv[0][0] = s1\n",
    "g_inv[1][1] = s1\n",
    "g_inv[2][2] = s2\n",
    "g_inv[3][3] = s2\n",
    "print(g_inv)"
   ]
  },
  {
   "cell_type": "code",
   "execution_count": 50,
   "id": "3f5cd2af",
   "metadata": {
    "scrolled": true
   },
   "outputs": [
    {
     "name": "stdout",
     "output_type": "stream",
     "text": [
      "[[[0 -0.5/s1 0 0]\n",
      "  [-0.5/s1 0 0 0]\n",
      "  [0 0 0 0]\n",
      "  [0 0 0 0]]\n",
      "\n",
      " [[0.5/s1 0 0 0]\n",
      "  [0 -0.5/s1 0 0]\n",
      "  [0 0 0 0]\n",
      "  [0 0 0 0]]\n",
      "\n",
      " [[0 0 0 0]\n",
      "  [0 0 0 0]\n",
      "  [0 0 0 -0.5/s2]\n",
      "  [0 0 -0.5/s2 0]]\n",
      "\n",
      " [[0 0 0 0]\n",
      "  [0 0 0 0]\n",
      "  [0 0 0.5/s2 0]\n",
      "  [0 0 0 -0.5/s2]]]\n"
     ]
    }
   ],
   "source": [
    "#t = [mu1,s1,mu2,s2] # for H2xH2 might be wrong one\n",
    "#\n",
    "#def calc_chrst():\n",
    "#    chrst = np.zeros((4,4,4), dtype = type(smp.sin(t0)))\n",
    "#    for k in range(4):\n",
    "#        for i in range(4): \n",
    "#            for j in range(4):\n",
    "#                for m in range(4):\n",
    "#                    chrst[k][i][j] += (1/2)*g_inv[k][m]*(smp.diff(g[m][i],t[j]) + smp.diff(g[m][j],t[i]) - smp.diff(g[i][j],t[m]))\n",
    "#    return chrst\n",
    "#\n",
    "#print(calc_chrst())\n",
    "#\n",
    "#H2_chrst = calc_chrst()"
   ]
  },
  {
   "cell_type": "code",
   "execution_count": 77,
   "id": "4577f9b8",
   "metadata": {},
   "outputs": [
    {
     "name": "stdout",
     "output_type": "stream",
     "text": [
      "[[[0 0.5/s1 0 0]\n",
      "  [-0.5/s1 0 0 0]\n",
      "  [0 0 0 0]\n",
      "  [0 0 0 0]]\n",
      "\n",
      " [[-0.5/s1 0 0 0]\n",
      "  [0 -0.5/s1 0 0]\n",
      "  [0 0 0 0]\n",
      "  [0 0 0 0]]\n",
      "\n",
      " [[0 0 0 0]\n",
      "  [0 0 0 0]\n",
      "  [0 0 0 0.5/s2]\n",
      "  [0 0 -0.5/s2 0]]\n",
      "\n",
      " [[0 0 0 0]\n",
      "  [0 0 0 0]\n",
      "  [0 0 -0.5/s2 0]\n",
      "  [0 0 0 -0.5/s2]]]\n"
     ]
    }
   ],
   "source": [
    "t = [mu1,s1,mu2,s2] # for H2xH2\n",
    "\n",
    "def calc_chrst():\n",
    "    chrst = np.zeros((4,4,4), dtype = type(smp.sin(t0)))\n",
    "    for i in range(4):\n",
    "        for j in range(4): \n",
    "            for k in range(4):\n",
    "                for m in range(4):\n",
    "                    chrst[i][j][k] += (1/2)*g_inv[k][m]*(smp.diff(g[m][i],t[j]) + smp.diff(g[m][j],t[i]) - smp.diff(g[i][j],t[m]))\n",
    "    return chrst\n",
    "\n",
    "print(calc_chrst())\n",
    "H2_chrst = calc_chrst()"
   ]
  },
  {
   "cell_type": "code",
   "execution_count": 47,
   "id": "023c9993",
   "metadata": {},
   "outputs": [
    {
     "data": {
      "text/plain": [
       "array([[s1, 0, 0, 0],\n",
       "       [0, s1, 0, 0],\n",
       "       [0, 0, s2, 0],\n",
       "       [0, 0, 0, s2]], dtype=object)"
      ]
     },
     "execution_count": 47,
     "metadata": {},
     "output_type": "execute_result"
    }
   ],
   "source": [
    "g_inv"
   ]
  },
  {
   "cell_type": "code",
   "execution_count": 10,
   "id": "bda8c73e",
   "metadata": {},
   "outputs": [
    {
     "data": {
      "text/latex": [
       "$\\displaystyle \\frac{0.398942280401433 x e^{- \\frac{0.5 \\left(- \\mu + x\\right)^{2}}{s^{2}}}}{s}$"
      ],
      "text/plain": [
       "0.398942280401433*x*exp(-0.5*(-mu + x)**2/s**2)/s"
      ]
     },
     "execution_count": 10,
     "metadata": {},
     "output_type": "execute_result"
    }
   ],
   "source": [
    "x, mu, s = smp.symbols('x mu s', real=True)\n",
    "pdf = 1/(s*smp.sqrt(2*np.pi))*smp.exp(-1/2*((x-mu)/s)**2)\n",
    "pdf_times_x = pdf * x\n",
    "pdf_times_x"
   ]
  },
  {
   "cell_type": "code",
   "execution_count": 11,
   "id": "694bf50c",
   "metadata": {},
   "outputs": [
    {
     "data": {
      "text/latex": [
       "$\\displaystyle \\begin{cases} 0.564189583547756 \\sqrt{\\pi} & \\text{for}\\: \\left|{\\arg{\\left(s \\right)}}\\right| \\leq \\frac{\\pi}{4} \\\\\\int\\limits_{-\\infty}^{\\infty} \\frac{0.398942280401433 e^{- \\frac{0.5 \\left(- \\mu + x\\right)^{2}}{s^{2}}}}{s}\\, dx & \\text{otherwise} \\end{cases}$"
      ],
      "text/plain": [
       "Piecewise((0.564189583547756*sqrt(pi), Abs(arg(s)) <= pi/4), (Integral(0.398942280401433*exp(-0.5*(-mu + x)**2/s**2)/s, (x, -oo, oo)), True))"
      ]
     },
     "execution_count": 11,
     "metadata": {},
     "output_type": "execute_result"
    }
   ],
   "source": [
    "# Ensuring integrating normal distribution over real numbers is 1\n",
    "smp.integrate(pdf, (x,-smp.oo,smp.oo))"
   ]
  },
  {
   "cell_type": "code",
   "execution_count": 12,
   "id": "22493c50",
   "metadata": {},
   "outputs": [
    {
     "data": {
      "text/latex": [
       "$\\displaystyle \\begin{cases} 0.564189583547756 \\sqrt{\\pi} \\mu & \\text{for}\\: \\left|{\\arg{\\left(s \\right)}}\\right| \\leq \\frac{\\pi}{4} \\wedge \\left|{\\arg{\\left(s \\right)}}\\right| < \\frac{\\pi}{4} \\\\\\int\\limits_{-\\infty}^{\\infty} \\frac{0.398942280401433 x e^{- \\frac{0.5 \\left(- \\mu + x\\right)^{2}}{s^{2}}}}{s}\\, dx & \\text{otherwise} \\end{cases}$"
      ],
      "text/plain": [
       "Piecewise((0.564189583547756*sqrt(pi)*mu, (Abs(arg(s)) <= pi/4) & (Abs(arg(s)) < pi/4)), (Integral(0.398942280401433*x*exp(-0.5*(-mu + x)**2/s**2)/s, (x, -oo, oo)), True))"
      ]
     },
     "execution_count": 12,
     "metadata": {},
     "output_type": "execute_result"
    }
   ],
   "source": [
    "# Calculating Expected value of normal distribution\n",
    "smp.integrate(pdf_times_x, (x,-smp.oo,smp.oo))"
   ]
  },
  {
   "cell_type": "code",
   "execution_count": 15,
   "id": "6475e377",
   "metadata": {},
   "outputs": [
    {
     "data": {
      "text/latex": [
       "$\\displaystyle \\frac{0.398942280401433 e^{- \\frac{0.5 \\left(- \\mu_{2} + y\\right)^{2}}{s_{2}^{2}} - \\frac{0.5 \\left(- \\mu_{1} + x\\right)^{2}}{s_{1}^{2}}}}{s_{1} s_{2}}$"
      ],
      "text/plain": [
       "0.398942280401433*exp(-0.5*(-mu2 + y)**2/s2**2 - 0.5*(-mu1 + x)**2/s1**2)/(s1*s2)"
      ]
     },
     "execution_count": 15,
     "metadata": {},
     "output_type": "execute_result"
    }
   ],
   "source": [
    "x, y, mu1, mu2 = smp.symbols('x y mu1 mu2', real=True) # originally x, y, mu1,s1,mu2,s2 = smp.symbols('x y mu1 s1 mu2 s2', real=True)\n",
    "s1, s2 = smp.symbols('s1 s2', real=True, positive = True)\n",
    "# bivariate normal distribution\n",
    "bi_pdf = 1/(s1*s2*np.sqrt(2*np.pi))*smp.exp(-1/2*(((x-mu1)/s1)**2+((y-mu2)/s2)**2))\n",
    "bi_pdf"
   ]
  },
  {
   "cell_type": "code",
   "execution_count": 11,
   "id": "b72d32c7",
   "metadata": {},
   "outputs": [
    {
     "data": {
      "text/latex": [
       "$\\displaystyle \\frac{0.398942280401433 e^{- \\frac{0.5 \\mu_{1}^{2}}{s_{1}^{2}}} e^{- \\frac{0.5 \\mu_{2}^{2}}{s_{2}^{2}}} \\left(\\int\\limits_{-1}^{1} e^{- \\frac{0.5 x^{2}}{s_{1}^{2}}} e^{\\frac{1.0 \\mu_{1} x}{s_{1}^{2}}}\\, dx\\right) \\int\\limits_{-1}^{1} e^{- \\frac{0.5 y^{2}}{s_{2}^{2}}} e^{\\frac{1.0 \\mu_{2} y}{s_{2}^{2}}}\\, dy}{s_{1} s_{2}}$"
      ],
      "text/plain": [
       "0.398942280401433*exp(-0.5*mu1**2/s1**2)*exp(-0.5*mu2**2/s2**2)*Integral(exp(-0.5*x**2/s1**2)*exp(1.0*mu1*x/s1**2), (x, -1, 1))*Integral(exp(-0.5*y**2/s2**2)*exp(1.0*mu2*y/s2**2), (y, -1, 1))/(s1*s2)"
      ]
     },
     "execution_count": 11,
     "metadata": {},
     "output_type": "execute_result"
    }
   ],
   "source": [
    "# Calculating Expected value of bivariatte normal distribution\n",
    "#smp.integrate(bi_pdf, (x,-smp.oo,smp.oo), (y, -smp.oo, smp.oo))\n",
    "smp.integrate(bi_pdf, (x,-1,1), (y, -1, 1))"
   ]
  },
  {
   "cell_type": "code",
   "execution_count": 12,
   "id": "5de44043",
   "metadata": {},
   "outputs": [
    {
     "data": {
      "text/latex": [
       "$\\displaystyle \\begin{cases} \\frac{0.564189583547756 \\sqrt{\\pi}}{s^{2}} & \\text{for}\\: \\left|{\\arg{\\left(s \\right)}}\\right| < \\frac{\\pi}{4} \\\\\\int\\limits_{-\\infty}^{\\infty} \\frac{0.398942280401433 \\left(- \\mu + x\\right)^{2} e^{- \\frac{0.5 \\left(- \\mu + x\\right)^{2}}{s^{2}}}}{s^{5}}\\, dx & \\text{otherwise} \\end{cases}$"
      ],
      "text/plain": [
       "Piecewise((0.564189583547756*sqrt(pi)/s**2, Abs(arg(s)) < pi/4), (Integral(0.398942280401433*(-mu + x)**2*exp(-0.5*(-mu + x)**2/s**2)/s**5, (x, -oo, oo)), True))"
      ]
     },
     "execution_count": 12,
     "metadata": {},
     "output_type": "execute_result"
    }
   ],
   "source": [
    "l_m = 1/s**2*(x-mu)\n",
    "g_mm = smp.integrate(l_m**2*pdf, (x, -smp.oo,smp.oo))\n",
    "g_mm"
   ]
  },
  {
   "cell_type": "markdown",
   "id": "2597d380",
   "metadata": {},
   "source": [
    "0.564189583547756*sqrt(pi) = 1"
   ]
  },
  {
   "cell_type": "code",
   "execution_count": 13,
   "id": "9966498e",
   "metadata": {},
   "outputs": [
    {
     "data": {
      "text/latex": [
       "$\\displaystyle \\begin{cases} \\frac{0.282094791773878 \\sqrt{\\pi}}{s^{4}} & \\text{for}\\: \\left|{\\arg{\\left(s \\right)}}\\right| \\leq \\frac{\\pi}{4} \\wedge \\left|{\\arg{\\left(s \\right)}}\\right| < \\frac{\\pi}{4} \\\\\\int\\limits_{-\\infty}^{\\infty} \\frac{0.398942280401433 \\left(- \\frac{1}{2 s^{2}} + \\frac{\\left(- \\mu + x\\right)^{2}}{2 s^{4}}\\right)^{2} e^{- \\frac{0.5 \\left(- \\mu + x\\right)^{2}}{s^{2}}}}{s}\\, dx & \\text{otherwise} \\end{cases}$"
      ],
      "text/plain": [
       "Piecewise((0.282094791773878*sqrt(pi)/s**4, (Abs(arg(s)) <= pi/4) & (Abs(arg(s)) < pi/4)), (Integral(0.398942280401433*(-1/(2*s**2) + (-mu + x)**2/(2*s**4))**2*exp(-0.5*(-mu + x)**2/s**2)/s, (x, -oo, oo)), True))"
      ]
     },
     "execution_count": 13,
     "metadata": {},
     "output_type": "execute_result"
    }
   ],
   "source": [
    "l_s = (x-mu)**2/(2*s**4)-1/(2*s**2)\n",
    "g_ss = smp.integrate(l_s**2*pdf, (x, -smp.oo,smp.oo))\n",
    "g_ss"
   ]
  },
  {
   "cell_type": "code",
   "execution_count": 14,
   "id": "c5472b63",
   "metadata": {},
   "outputs": [
    {
     "data": {
      "text/latex": [
       "$\\displaystyle \\begin{cases} 0 & \\text{for}\\: \\left|{\\arg{\\left(s \\right)}}\\right| < \\frac{\\pi}{4} \\\\\\int\\limits_{-\\infty}^{\\infty} \\frac{0.398942280401433 \\left(- \\mu + x\\right) \\left(- \\frac{1}{2 s^{2}} + \\frac{\\left(- \\mu + x\\right)^{2}}{2 s^{4}}\\right) e^{- \\frac{0.5 \\left(- \\mu + x\\right)^{2}}{s^{2}}}}{s^{3}}\\, dx & \\text{otherwise} \\end{cases}$"
      ],
      "text/plain": [
       "Piecewise((0, Abs(arg(s)) < pi/4), (Integral(0.398942280401433*(-mu + x)*(-1/(2*s**2) + (-mu + x)**2/(2*s**4))*exp(-0.5*(-mu + x)**2/s**2)/s**3, (x, -oo, oo)), True))"
      ]
     },
     "execution_count": 14,
     "metadata": {},
     "output_type": "execute_result"
    }
   ],
   "source": [
    "g_ms = smp.integrate(l_m*l_s*pdf, (x, -smp.oo,smp.oo))\n",
    "g_sm = smp.integrate(l_s*l_m*pdf, (x, -smp.oo,smp.oo))\n",
    "g_ms\n",
    "g_sm"
   ]
  },
  {
   "cell_type": "code",
   "execution_count": 15,
   "id": "827eee89",
   "metadata": {},
   "outputs": [
    {
     "data": {
      "text/latex": [
       "$\\displaystyle \\begin{cases} 0 & \\text{for}\\: \\left|{\\arg{\\left(s \\right)}}\\right| < \\frac{\\pi}{4} \\\\\\int\\limits_{-\\infty}^{\\infty} \\frac{0.398942280401433 \\left(- \\mu + x\\right)^{3} e^{- \\frac{0.5 \\left(- \\mu + x\\right)^{2}}{s^{2}}}}{s^{7}}\\, dx & \\text{otherwise} \\end{cases}$"
      ],
      "text/plain": [
       "Piecewise((0, Abs(arg(s)) < pi/4), (Integral(0.398942280401433*(-mu + x)**3*exp(-0.5*(-mu + x)**2/s**2)/s**7, (x, -oo, oo)), True))"
      ]
     },
     "execution_count": 15,
     "metadata": {},
     "output_type": "execute_result"
    }
   ],
   "source": [
    "# Amari-Chentsov Tensor for C_mu_mu_mu\n",
    "c_mmm = smp.integrate(l_m**3*pdf, (x, -smp.oo,smp.oo))\n",
    "c_mmm"
   ]
  },
  {
   "cell_type": "code",
   "execution_count": 16,
   "id": "c8e99c76",
   "metadata": {},
   "outputs": [
    {
     "data": {
      "text/latex": [
       "$\\displaystyle \\begin{cases} \\frac{0.564189583547756 \\sqrt{\\pi}}{s^{4}} & \\text{for}\\: \\left|{\\arg{\\left(s \\right)}}\\right| < \\frac{\\pi}{4} \\\\\\int\\limits_{-\\infty}^{\\infty} \\frac{0.398942280401433 \\left(- \\mu + x\\right)^{2} \\left(- \\frac{1}{2 s^{2}} + \\frac{\\left(- \\mu + x\\right)^{2}}{2 s^{4}}\\right) e^{- \\frac{0.5 \\left(- \\mu + x\\right)^{2}}{s^{2}}}}{s^{5}}\\, dx & \\text{otherwise} \\end{cases}$"
      ],
      "text/plain": [
       "Piecewise((0.564189583547756*sqrt(pi)/s**4, Abs(arg(s)) < pi/4), (Integral(0.398942280401433*(-mu + x)**2*(-1/(2*s**2) + (-mu + x)**2/(2*s**4))*exp(-0.5*(-mu + x)**2/s**2)/s**5, (x, -oo, oo)), True))"
      ]
     },
     "execution_count": 16,
     "metadata": {},
     "output_type": "execute_result"
    }
   ],
   "source": [
    "# Amari-Chentsov Tensor for C_s_mu_mu\n",
    "c_smm = smp.integrate(l_s*l_m**2*pdf, (x, -smp.oo,smp.oo))\n",
    "c_smm"
   ]
  },
  {
   "cell_type": "code",
   "execution_count": 17,
   "id": "cc83ee39",
   "metadata": {},
   "outputs": [
    {
     "data": {
      "text/latex": [
       "$\\displaystyle \\begin{cases} 0 & \\text{for}\\: \\left|{\\arg{\\left(s \\right)}}\\right| < \\frac{\\pi}{4} \\\\\\int\\limits_{-\\infty}^{\\infty} \\frac{0.398942280401433 \\left(- \\mu + x\\right) \\left(- \\frac{1}{2 s^{2}} + \\frac{\\left(- \\mu + x\\right)^{2}}{2 s^{4}}\\right)^{2} e^{- \\frac{0.5 \\left(- \\mu + x\\right)^{2}}{s^{2}}}}{s^{3}}\\, dx & \\text{otherwise} \\end{cases}$"
      ],
      "text/plain": [
       "Piecewise((0, Abs(arg(s)) < pi/4), (Integral(0.398942280401433*(-mu + x)*(-1/(2*s**2) + (-mu + x)**2/(2*s**4))**2*exp(-0.5*(-mu + x)**2/s**2)/s**3, (x, -oo, oo)), True))"
      ]
     },
     "execution_count": 17,
     "metadata": {},
     "output_type": "execute_result"
    }
   ],
   "source": [
    "# Amari-Chentsov Tensor for C_s_s_mu\n",
    "c_ssm = smp.integrate(l_s**2*l_m*pdf, (x, -smp.oo,smp.oo))\n",
    "c_ssm"
   ]
  },
  {
   "cell_type": "code",
   "execution_count": 18,
   "id": "111ff20e",
   "metadata": {},
   "outputs": [
    {
     "data": {
      "text/latex": [
       "$\\displaystyle \\begin{cases} \\frac{0.564189583547756 \\sqrt{\\pi}}{s^{6}} & \\text{for}\\: \\left|{\\arg{\\left(s \\right)}}\\right| \\leq \\frac{\\pi}{4} \\wedge \\left|{\\arg{\\left(s \\right)}}\\right| < \\frac{\\pi}{4} \\\\\\int\\limits_{-\\infty}^{\\infty} \\frac{0.398942280401433 \\left(- \\frac{1}{2 s^{2}} + \\frac{\\left(- \\mu + x\\right)^{2}}{2 s^{4}}\\right)^{3} e^{- \\frac{0.5 \\left(- \\mu + x\\right)^{2}}{s^{2}}}}{s}\\, dx & \\text{otherwise} \\end{cases}$"
      ],
      "text/plain": [
       "Piecewise((0.564189583547756*sqrt(pi)/s**6, (Abs(arg(s)) <= pi/4) & (Abs(arg(s)) < pi/4)), (Integral(0.398942280401433*(-1/(2*s**2) + (-mu + x)**2/(2*s**4))**3*exp(-0.5*(-mu + x)**2/s**2)/s, (x, -oo, oo)), True))"
      ]
     },
     "execution_count": 18,
     "metadata": {},
     "output_type": "execute_result"
    }
   ],
   "source": [
    "# Amari-Chentsov Tensor for C_s_s_s\n",
    "c_sss = smp.integrate(l_s**3*pdf, (x, -smp.oo,smp.oo))\n",
    "c_sss"
   ]
  },
  {
   "cell_type": "code",
   "execution_count": 19,
   "id": "7bc885bd",
   "metadata": {},
   "outputs": [],
   "source": [
    "# For bivariate normal distribution\n",
    "l_mu1 = (x-mu2)/(s1**2)\n",
    "l_mu2 = (y-mu2)/(s2**2)\n",
    "\n",
    "l_s1 = (x-mu1)**2/(2*s1**4)-1/(2*s1**2)\n",
    "l_s2 = (y-mu2)**2/(2*s2**4)-1/(2*s2**2)"
   ]
  },
  {
   "cell_type": "code",
   "execution_count": 20,
   "id": "6f1662b5",
   "metadata": {},
   "outputs": [
    {
     "data": {
      "text/latex": [
       "$\\displaystyle - \\frac{0.398942280401433 \\left(\\mu_{2} - x\\right)^{3} e^{- \\frac{0.5 \\left(- \\mu_{2} + y\\right)^{2}}{s_{2}^{2}} - \\frac{0.5 \\left(- \\mu_{1} + x\\right)^{2}}{s_{1}^{2}}}}{s_{1}^{7} s_{2}}$"
      ],
      "text/plain": [
       "-0.398942280401433*(mu2 - x)**3*exp(-0.5*(-mu2 + y)**2/s2**2 - 0.5*(-mu1 + x)**2/s1**2)/(s1**7*s2)"
      ]
     },
     "execution_count": 20,
     "metadata": {},
     "output_type": "execute_result"
    }
   ],
   "source": [
    "# Amari-Chentsov Tensor for C_mu1_mu1_mu1\n",
    "c_m1m1m1 = smp.integrate(l_mu1**3*bi_pdf, (x, 0,1), (y, 0, 1))\n",
    "smp.simplify(l_mu1**3*bi_pdf)"
   ]
  },
  {
   "cell_type": "code",
   "execution_count": null,
   "id": "d03ea8e5",
   "metadata": {},
   "outputs": [],
   "source": []
  },
  {
   "cell_type": "code",
   "execution_count": 30,
   "id": "3dc2422b",
   "metadata": {},
   "outputs": [
    {
     "data": {
      "text/latex": [
       "$\\displaystyle - \\frac{0.398942280401433 \\left(\\mu_{2} - x\\right)^{3} e^{- \\frac{0.5 \\left(- \\mu_{1} + x\\right)^{2}}{s_{1}^{2}}}}{s_{1}^{7} s_{2}}$"
      ],
      "text/plain": [
       "-0.398942280401433*(mu2 - x)**3*exp(-0.5*(-mu1 + x)**2/s1**2)/(s1**7*s2)"
      ]
     },
     "execution_count": 30,
     "metadata": {},
     "output_type": "execute_result"
    }
   ],
   "source": [
    "# maybe use fubini theorem\n",
    "integrand_x = -1/(s1**7*s2*smp.sqrt(2*np.pi))*(mu2-x)**3*smp.exp(-1/2*((x-mu1)/s1)**2)\n",
    "integrand_x\n",
    "integral_x = smp.integrate(integrand_x, (x, -smp.oo,smp.oo))\n",
    "integrand_x"
   ]
  },
  {
   "cell_type": "code",
   "execution_count": 29,
   "id": "d55ed340",
   "metadata": {},
   "outputs": [
    {
     "data": {
      "text/latex": [
       "$\\displaystyle e^{- \\frac{0.5 \\left(- \\mu_{2} + y\\right)^{2}}{s_{2}^{2}}}$"
      ],
      "text/plain": [
       "exp(-0.5*(-mu2 + y)**2/s2**2)"
      ]
     },
     "execution_count": 29,
     "metadata": {},
     "output_type": "execute_result"
    }
   ],
   "source": [
    "integrand_y = smp.exp(-1/2*((y-mu2)/s2)**2)\n",
    "integrand_y\n",
    "integral_y = smp.integrate(integrand_y, (y, -smp.oo, smp.oo))\n",
    "integrand_y"
   ]
  },
  {
   "cell_type": "code",
   "execution_count": 56,
   "id": "6644b23c",
   "metadata": {},
   "outputs": [
    {
     "ename": "KeyboardInterrupt",
     "evalue": "",
     "output_type": "error",
     "traceback": [
      "\u001b[0;31m---------------------------------------------------------------------------\u001b[0m",
      "\u001b[0;31mKeyboardInterrupt\u001b[0m                         Traceback (most recent call last)",
      "Cell \u001b[0;32mIn[56], line 4\u001b[0m\n\u001b[1;32m      2\u001b[0m start_time \u001b[38;5;241m=\u001b[39m timeit\u001b[38;5;241m.\u001b[39mdefault_timer()\n\u001b[1;32m      3\u001b[0m \u001b[38;5;66;03m# code you want to evaluate\u001b[39;00m\n\u001b[0;32m----> 4\u001b[0m c_m1m1m1 \u001b[38;5;241m=\u001b[39m \u001b[43msmp\u001b[49m\u001b[38;5;241;43m.\u001b[39;49m\u001b[43mintegrate\u001b[49m\u001b[43m(\u001b[49m\u001b[43ml_mu1\u001b[49m\u001b[38;5;241;43m*\u001b[39;49m\u001b[38;5;241;43m*\u001b[39;49m\u001b[38;5;241;43m3\u001b[39;49m\u001b[38;5;241;43m*\u001b[39;49m\u001b[43mbi_pdf\u001b[49m\u001b[43m,\u001b[49m\u001b[43m \u001b[49m\u001b[43m(\u001b[49m\u001b[43mx\u001b[49m\u001b[43m,\u001b[49m\u001b[43m \u001b[49m\u001b[38;5;241;43m-\u001b[39;49m\u001b[43msmp\u001b[49m\u001b[38;5;241;43m.\u001b[39;49m\u001b[43moo\u001b[49m\u001b[43m,\u001b[49m\u001b[43msmp\u001b[49m\u001b[38;5;241;43m.\u001b[39;49m\u001b[43moo\u001b[49m\u001b[43m)\u001b[49m\u001b[43m,\u001b[49m\u001b[43m \u001b[49m\u001b[43m(\u001b[49m\u001b[43my\u001b[49m\u001b[43m,\u001b[49m\u001b[43m \u001b[49m\u001b[38;5;241;43m-\u001b[39;49m\u001b[43msmp\u001b[49m\u001b[38;5;241;43m.\u001b[39;49m\u001b[43moo\u001b[49m\u001b[43m,\u001b[49m\u001b[43m \u001b[49m\u001b[43msmp\u001b[49m\u001b[38;5;241;43m.\u001b[39;49m\u001b[43moo\u001b[49m\u001b[43m)\u001b[49m\u001b[43m)\u001b[49m\n\u001b[1;32m      5\u001b[0m elapsed \u001b[38;5;241m=\u001b[39m timeit\u001b[38;5;241m.\u001b[39mdefault_timer() \u001b[38;5;241m-\u001b[39m start_time\n\u001b[1;32m      6\u001b[0m elapsed\n",
      "File \u001b[0;32m~/opt/anaconda3/lib/python3.8/site-packages/sympy/integrals/integrals.py:1567\u001b[0m, in \u001b[0;36mintegrate\u001b[0;34m(meijerg, conds, risch, heurisch, manual, *args, **kwargs)\u001b[0m\n\u001b[1;32m   1564\u001b[0m integral \u001b[38;5;241m=\u001b[39m Integral(\u001b[38;5;241m*\u001b[39margs, \u001b[38;5;241m*\u001b[39m\u001b[38;5;241m*\u001b[39mkwargs)\n\u001b[1;32m   1566\u001b[0m \u001b[38;5;28;01mif\u001b[39;00m \u001b[38;5;28misinstance\u001b[39m(integral, Integral):\n\u001b[0;32m-> 1567\u001b[0m     \u001b[38;5;28;01mreturn\u001b[39;00m \u001b[43mintegral\u001b[49m\u001b[38;5;241;43m.\u001b[39;49m\u001b[43mdoit\u001b[49m\u001b[43m(\u001b[49m\u001b[38;5;241;43m*\u001b[39;49m\u001b[38;5;241;43m*\u001b[39;49m\u001b[43mdoit_flags\u001b[49m\u001b[43m)\u001b[49m\n\u001b[1;32m   1568\u001b[0m \u001b[38;5;28;01melse\u001b[39;00m:\n\u001b[1;32m   1569\u001b[0m     new_args \u001b[38;5;241m=\u001b[39m [a\u001b[38;5;241m.\u001b[39mdoit(\u001b[38;5;241m*\u001b[39m\u001b[38;5;241m*\u001b[39mdoit_flags) \u001b[38;5;28;01mif\u001b[39;00m \u001b[38;5;28misinstance\u001b[39m(a, Integral) \u001b[38;5;28;01melse\u001b[39;00m a\n\u001b[1;32m   1570\u001b[0m         \u001b[38;5;28;01mfor\u001b[39;00m a \u001b[38;5;129;01min\u001b[39;00m integral\u001b[38;5;241m.\u001b[39margs]\n",
      "File \u001b[0;32m~/opt/anaconda3/lib/python3.8/site-packages/sympy/integrals/integrals.py:550\u001b[0m, in \u001b[0;36mIntegral.doit\u001b[0;34m(self, **hints)\u001b[0m\n\u001b[1;32m    547\u001b[0m         antideriv \u001b[38;5;241m=\u001b[39m function\u001b[38;5;241m.\u001b[39m_eval_integral(xab[\u001b[38;5;241m0\u001b[39m],\n\u001b[1;32m    548\u001b[0m             \u001b[38;5;241m*\u001b[39m\u001b[38;5;241m*\u001b[39meval_kwargs)\n\u001b[1;32m    549\u001b[0m     \u001b[38;5;28;01melse\u001b[39;00m:\n\u001b[0;32m--> 550\u001b[0m         antideriv \u001b[38;5;241m=\u001b[39m \u001b[38;5;28;43mself\u001b[39;49m\u001b[38;5;241;43m.\u001b[39;49m\u001b[43m_eval_integral\u001b[49m\u001b[43m(\u001b[49m\n\u001b[1;32m    551\u001b[0m \u001b[43m            \u001b[49m\u001b[43mfunction\u001b[49m\u001b[43m,\u001b[49m\u001b[43m \u001b[49m\u001b[43mxab\u001b[49m\u001b[43m[\u001b[49m\u001b[38;5;241;43m0\u001b[39;49m\u001b[43m]\u001b[49m\u001b[43m,\u001b[49m\u001b[43m \u001b[49m\u001b[38;5;241;43m*\u001b[39;49m\u001b[38;5;241;43m*\u001b[39;49m\u001b[43meval_kwargs\u001b[49m\u001b[43m)\u001b[49m\n\u001b[1;32m    552\u001b[0m \u001b[38;5;28;01melse\u001b[39;00m:\n\u001b[1;32m    553\u001b[0m     \u001b[38;5;66;03m# There are a number of tradeoffs in using the\u001b[39;00m\n\u001b[1;32m    554\u001b[0m     \u001b[38;5;66;03m# Meijer G method. It can sometimes be a lot faster\u001b[39;00m\n\u001b[0;32m   (...)\u001b[0m\n\u001b[1;32m    559\u001b[0m     \u001b[38;5;66;03m# integration methods to try, in what order. See the\u001b[39;00m\n\u001b[1;32m    560\u001b[0m     \u001b[38;5;66;03m# integrate() docstring for details.\u001b[39;00m\n\u001b[1;32m    561\u001b[0m     \u001b[38;5;28;01mdef\u001b[39;00m \u001b[38;5;21mtry_meijerg\u001b[39m(function, xab):\n",
      "File \u001b[0;32m~/opt/anaconda3/lib/python3.8/site-packages/sympy/integrals/integrals.py:941\u001b[0m, in \u001b[0;36mIntegral._eval_integral\u001b[0;34m(self, f, x, meijerg, risch, manual, heurisch, conds, final)\u001b[0m\n\u001b[1;32m    939\u001b[0m \u001b[38;5;66;03m# Piecewise antiderivatives need to call special integrate.\u001b[39;00m\n\u001b[1;32m    940\u001b[0m \u001b[38;5;28;01mif\u001b[39;00m \u001b[38;5;28misinstance\u001b[39m(f, Piecewise):\n\u001b[0;32m--> 941\u001b[0m     \u001b[38;5;28;01mreturn\u001b[39;00m \u001b[43mf\u001b[49m\u001b[38;5;241;43m.\u001b[39;49m\u001b[43mpiecewise_integrate\u001b[49m\u001b[43m(\u001b[49m\u001b[43mx\u001b[49m\u001b[43m,\u001b[49m\u001b[43m \u001b[49m\u001b[38;5;241;43m*\u001b[39;49m\u001b[38;5;241;43m*\u001b[39;49m\u001b[43meval_kwargs\u001b[49m\u001b[43m)\u001b[49m\n\u001b[1;32m    943\u001b[0m \u001b[38;5;66;03m# let's cut it short if `f` does not depend on `x`; if\u001b[39;00m\n\u001b[1;32m    944\u001b[0m \u001b[38;5;66;03m# x is only a dummy, that will be handled below\u001b[39;00m\n\u001b[1;32m    945\u001b[0m \u001b[38;5;28;01mif\u001b[39;00m \u001b[38;5;129;01mnot\u001b[39;00m f\u001b[38;5;241m.\u001b[39mhas(x):\n",
      "File \u001b[0;32m~/opt/anaconda3/lib/python3.8/site-packages/sympy/functions/elementary/piecewise.py:366\u001b[0m, in \u001b[0;36mPiecewise.piecewise_integrate\u001b[0;34m(self, x, **kwargs)\u001b[0m\n\u001b[1;32m    332\u001b[0m \u001b[38;5;124;03m\"\"\"Return the Piecewise with each expression being\u001b[39;00m\n\u001b[1;32m    333\u001b[0m \u001b[38;5;124;03mreplaced with its antiderivative. To obtain a continuous\u001b[39;00m\n\u001b[1;32m    334\u001b[0m \u001b[38;5;124;03mantiderivative, use the :func:`~.integrate` function or method.\u001b[39;00m\n\u001b[0;32m   (...)\u001b[0m\n\u001b[1;32m    363\u001b[0m \u001b[38;5;124;03mPiecewise._eval_integral\u001b[39;00m\n\u001b[1;32m    364\u001b[0m \u001b[38;5;124;03m\"\"\"\u001b[39;00m\n\u001b[1;32m    365\u001b[0m \u001b[38;5;28;01mfrom\u001b[39;00m \u001b[38;5;21;01msympy\u001b[39;00m\u001b[38;5;21;01m.\u001b[39;00m\u001b[38;5;21;01mintegrals\u001b[39;00m \u001b[38;5;28;01mimport\u001b[39;00m integrate\n\u001b[0;32m--> 366\u001b[0m \u001b[38;5;28;01mreturn\u001b[39;00m \u001b[38;5;28mself\u001b[39m\u001b[38;5;241m.\u001b[39mfunc(\u001b[38;5;241m*\u001b[39m[(integrate(e, x, \u001b[38;5;241m*\u001b[39m\u001b[38;5;241m*\u001b[39mkwargs), c) \u001b[38;5;28;01mfor\u001b[39;00m e, c \u001b[38;5;129;01min\u001b[39;00m \u001b[38;5;28mself\u001b[39m\u001b[38;5;241m.\u001b[39margs])\n",
      "File \u001b[0;32m~/opt/anaconda3/lib/python3.8/site-packages/sympy/functions/elementary/piecewise.py:366\u001b[0m, in \u001b[0;36m<listcomp>\u001b[0;34m(.0)\u001b[0m\n\u001b[1;32m    332\u001b[0m \u001b[38;5;124;03m\"\"\"Return the Piecewise with each expression being\u001b[39;00m\n\u001b[1;32m    333\u001b[0m \u001b[38;5;124;03mreplaced with its antiderivative. To obtain a continuous\u001b[39;00m\n\u001b[1;32m    334\u001b[0m \u001b[38;5;124;03mantiderivative, use the :func:`~.integrate` function or method.\u001b[39;00m\n\u001b[0;32m   (...)\u001b[0m\n\u001b[1;32m    363\u001b[0m \u001b[38;5;124;03mPiecewise._eval_integral\u001b[39;00m\n\u001b[1;32m    364\u001b[0m \u001b[38;5;124;03m\"\"\"\u001b[39;00m\n\u001b[1;32m    365\u001b[0m \u001b[38;5;28;01mfrom\u001b[39;00m \u001b[38;5;21;01msympy\u001b[39;00m\u001b[38;5;21;01m.\u001b[39;00m\u001b[38;5;21;01mintegrals\u001b[39;00m \u001b[38;5;28;01mimport\u001b[39;00m integrate\n\u001b[0;32m--> 366\u001b[0m \u001b[38;5;28;01mreturn\u001b[39;00m \u001b[38;5;28mself\u001b[39m\u001b[38;5;241m.\u001b[39mfunc(\u001b[38;5;241m*\u001b[39m[(\u001b[43mintegrate\u001b[49m\u001b[43m(\u001b[49m\u001b[43me\u001b[49m\u001b[43m,\u001b[49m\u001b[43m \u001b[49m\u001b[43mx\u001b[49m\u001b[43m,\u001b[49m\u001b[43m \u001b[49m\u001b[38;5;241;43m*\u001b[39;49m\u001b[38;5;241;43m*\u001b[39;49m\u001b[43mkwargs\u001b[49m\u001b[43m)\u001b[49m, c) \u001b[38;5;28;01mfor\u001b[39;00m e, c \u001b[38;5;129;01min\u001b[39;00m \u001b[38;5;28mself\u001b[39m\u001b[38;5;241m.\u001b[39margs])\n",
      "File \u001b[0;32m~/opt/anaconda3/lib/python3.8/site-packages/sympy/integrals/integrals.py:1567\u001b[0m, in \u001b[0;36mintegrate\u001b[0;34m(meijerg, conds, risch, heurisch, manual, *args, **kwargs)\u001b[0m\n\u001b[1;32m   1564\u001b[0m integral \u001b[38;5;241m=\u001b[39m Integral(\u001b[38;5;241m*\u001b[39margs, \u001b[38;5;241m*\u001b[39m\u001b[38;5;241m*\u001b[39mkwargs)\n\u001b[1;32m   1566\u001b[0m \u001b[38;5;28;01mif\u001b[39;00m \u001b[38;5;28misinstance\u001b[39m(integral, Integral):\n\u001b[0;32m-> 1567\u001b[0m     \u001b[38;5;28;01mreturn\u001b[39;00m \u001b[43mintegral\u001b[49m\u001b[38;5;241;43m.\u001b[39;49m\u001b[43mdoit\u001b[49m\u001b[43m(\u001b[49m\u001b[38;5;241;43m*\u001b[39;49m\u001b[38;5;241;43m*\u001b[39;49m\u001b[43mdoit_flags\u001b[49m\u001b[43m)\u001b[49m\n\u001b[1;32m   1568\u001b[0m \u001b[38;5;28;01melse\u001b[39;00m:\n\u001b[1;32m   1569\u001b[0m     new_args \u001b[38;5;241m=\u001b[39m [a\u001b[38;5;241m.\u001b[39mdoit(\u001b[38;5;241m*\u001b[39m\u001b[38;5;241m*\u001b[39mdoit_flags) \u001b[38;5;28;01mif\u001b[39;00m \u001b[38;5;28misinstance\u001b[39m(a, Integral) \u001b[38;5;28;01melse\u001b[39;00m a\n\u001b[1;32m   1570\u001b[0m         \u001b[38;5;28;01mfor\u001b[39;00m a \u001b[38;5;129;01min\u001b[39;00m integral\u001b[38;5;241m.\u001b[39margs]\n",
      "File \u001b[0;32m~/opt/anaconda3/lib/python3.8/site-packages/sympy/integrals/integrals.py:547\u001b[0m, in \u001b[0;36mIntegral.doit\u001b[0;34m(self, **hints)\u001b[0m\n\u001b[1;32m    545\u001b[0m \u001b[38;5;28;01mif\u001b[39;00m \u001b[38;5;28misinstance\u001b[39m(function, Piecewise):\n\u001b[1;32m    546\u001b[0m     \u001b[38;5;28;01mif\u001b[39;00m \u001b[38;5;28mlen\u001b[39m(xab) \u001b[38;5;241m==\u001b[39m \u001b[38;5;241m1\u001b[39m:\n\u001b[0;32m--> 547\u001b[0m         antideriv \u001b[38;5;241m=\u001b[39m \u001b[43mfunction\u001b[49m\u001b[38;5;241;43m.\u001b[39;49m\u001b[43m_eval_integral\u001b[49m\u001b[43m(\u001b[49m\u001b[43mxab\u001b[49m\u001b[43m[\u001b[49m\u001b[38;5;241;43m0\u001b[39;49m\u001b[43m]\u001b[49m\u001b[43m,\u001b[49m\n\u001b[1;32m    548\u001b[0m \u001b[43m            \u001b[49m\u001b[38;5;241;43m*\u001b[39;49m\u001b[38;5;241;43m*\u001b[39;49m\u001b[43meval_kwargs\u001b[49m\u001b[43m)\u001b[49m\n\u001b[1;32m    549\u001b[0m     \u001b[38;5;28;01melse\u001b[39;00m:\n\u001b[1;32m    550\u001b[0m         antideriv \u001b[38;5;241m=\u001b[39m \u001b[38;5;28mself\u001b[39m\u001b[38;5;241m.\u001b[39m_eval_integral(\n\u001b[1;32m    551\u001b[0m             function, xab[\u001b[38;5;241m0\u001b[39m], \u001b[38;5;241m*\u001b[39m\u001b[38;5;241m*\u001b[39meval_kwargs)\n",
      "File \u001b[0;32m~/opt/anaconda3/lib/python3.8/site-packages/sympy/functions/elementary/piecewise.py:466\u001b[0m, in \u001b[0;36mPiecewise._eval_integral\u001b[0;34m(self, x, _first, **kwargs)\u001b[0m\n\u001b[1;32m    464\u001b[0m     \u001b[38;5;28;01melse\u001b[39;00m:\n\u001b[1;32m    465\u001b[0m         \u001b[38;5;28;01mreturn\u001b[39;00m ipw\u001b[38;5;241m.\u001b[39mintegrate(x, \u001b[38;5;241m*\u001b[39m\u001b[38;5;241m*\u001b[39mkwargs)\n\u001b[0;32m--> 466\u001b[0m irv \u001b[38;5;241m=\u001b[39m \u001b[38;5;28;43mself\u001b[39;49m\u001b[38;5;241;43m.\u001b[39;49m\u001b[43m_handle_irel\u001b[49m\u001b[43m(\u001b[49m\u001b[43mx\u001b[49m\u001b[43m,\u001b[49m\u001b[43m \u001b[49m\u001b[43mhandler\u001b[49m\u001b[43m)\u001b[49m\n\u001b[1;32m    467\u001b[0m \u001b[38;5;28;01mif\u001b[39;00m irv \u001b[38;5;129;01mis\u001b[39;00m \u001b[38;5;129;01mnot\u001b[39;00m \u001b[38;5;28;01mNone\u001b[39;00m:\n\u001b[1;32m    468\u001b[0m     \u001b[38;5;28;01mreturn\u001b[39;00m irv\n",
      "File \u001b[0;32m~/opt/anaconda3/lib/python3.8/site-packages/sympy/functions/elementary/piecewise.py:412\u001b[0m, in \u001b[0;36mPiecewise._handle_irel\u001b[0;34m(self, x, handler)\u001b[0m\n\u001b[1;32m    410\u001b[0m         \u001b[38;5;28;01mcontinue\u001b[39;00m  \u001b[38;5;66;03m# an impossible combination\u001b[39;00m\n\u001b[1;32m    411\u001b[0m     cond \u001b[38;5;241m=\u001b[39m t\n\u001b[0;32m--> 412\u001b[0m expr \u001b[38;5;241m=\u001b[39m \u001b[43mhandler\u001b[49m\u001b[43m(\u001b[49m\u001b[38;5;28;43mself\u001b[39;49m\u001b[38;5;241;43m.\u001b[39;49m\u001b[43mxreplace\u001b[49m\u001b[43m(\u001b[49m\u001b[43mreps\u001b[49m\u001b[43m)\u001b[49m\u001b[43m)\u001b[49m\n\u001b[1;32m    413\u001b[0m \u001b[38;5;28;01mif\u001b[39;00m \u001b[38;5;28misinstance\u001b[39m(expr, \u001b[38;5;28mself\u001b[39m\u001b[38;5;241m.\u001b[39mfunc) \u001b[38;5;129;01mand\u001b[39;00m \u001b[38;5;28mlen\u001b[39m(expr\u001b[38;5;241m.\u001b[39margs) \u001b[38;5;241m==\u001b[39m \u001b[38;5;241m1\u001b[39m:\n\u001b[1;32m    414\u001b[0m     expr, econd \u001b[38;5;241m=\u001b[39m expr\u001b[38;5;241m.\u001b[39margs[\u001b[38;5;241m0\u001b[39m]\n",
      "File \u001b[0;32m~/opt/anaconda3/lib/python3.8/site-packages/sympy/functions/elementary/piecewise.py:465\u001b[0m, in \u001b[0;36mPiecewise._eval_integral.<locals>.handler\u001b[0;34m(ipw)\u001b[0m\n\u001b[1;32m    463\u001b[0m     \u001b[38;5;28;01mreturn\u001b[39;00m ipw\u001b[38;5;241m.\u001b[39m_eval_integral(x, _first\u001b[38;5;241m=\u001b[39m\u001b[38;5;28;01mFalse\u001b[39;00m, \u001b[38;5;241m*\u001b[39m\u001b[38;5;241m*\u001b[39mkwargs)\n\u001b[1;32m    464\u001b[0m \u001b[38;5;28;01melse\u001b[39;00m:\n\u001b[0;32m--> 465\u001b[0m     \u001b[38;5;28;01mreturn\u001b[39;00m \u001b[43mipw\u001b[49m\u001b[38;5;241;43m.\u001b[39;49m\u001b[43mintegrate\u001b[49m\u001b[43m(\u001b[49m\u001b[43mx\u001b[49m\u001b[43m,\u001b[49m\u001b[43m \u001b[49m\u001b[38;5;241;43m*\u001b[39;49m\u001b[38;5;241;43m*\u001b[39;49m\u001b[43mkwargs\u001b[49m\u001b[43m)\u001b[49m\n",
      "File \u001b[0;32m~/opt/anaconda3/lib/python3.8/site-packages/sympy/core/expr.py:3695\u001b[0m, in \u001b[0;36mExpr.integrate\u001b[0;34m(self, *args, **kwargs)\u001b[0m\n\u001b[1;32m   3693\u001b[0m \u001b[38;5;124;03m\"\"\"See the integrate function in sympy.integrals\"\"\"\u001b[39;00m\n\u001b[1;32m   3694\u001b[0m \u001b[38;5;28;01mfrom\u001b[39;00m \u001b[38;5;21;01msympy\u001b[39;00m\u001b[38;5;21;01m.\u001b[39;00m\u001b[38;5;21;01mintegrals\u001b[39;00m\u001b[38;5;21;01m.\u001b[39;00m\u001b[38;5;21;01mintegrals\u001b[39;00m \u001b[38;5;28;01mimport\u001b[39;00m integrate\n\u001b[0;32m-> 3695\u001b[0m \u001b[38;5;28;01mreturn\u001b[39;00m \u001b[43mintegrate\u001b[49m\u001b[43m(\u001b[49m\u001b[38;5;28;43mself\u001b[39;49m\u001b[43m,\u001b[49m\u001b[43m \u001b[49m\u001b[38;5;241;43m*\u001b[39;49m\u001b[43margs\u001b[49m\u001b[43m,\u001b[49m\u001b[43m \u001b[49m\u001b[38;5;241;43m*\u001b[39;49m\u001b[38;5;241;43m*\u001b[39;49m\u001b[43mkwargs\u001b[49m\u001b[43m)\u001b[49m\n",
      "File \u001b[0;32m~/opt/anaconda3/lib/python3.8/site-packages/sympy/integrals/integrals.py:1567\u001b[0m, in \u001b[0;36mintegrate\u001b[0;34m(meijerg, conds, risch, heurisch, manual, *args, **kwargs)\u001b[0m\n\u001b[1;32m   1564\u001b[0m integral \u001b[38;5;241m=\u001b[39m Integral(\u001b[38;5;241m*\u001b[39margs, \u001b[38;5;241m*\u001b[39m\u001b[38;5;241m*\u001b[39mkwargs)\n\u001b[1;32m   1566\u001b[0m \u001b[38;5;28;01mif\u001b[39;00m \u001b[38;5;28misinstance\u001b[39m(integral, Integral):\n\u001b[0;32m-> 1567\u001b[0m     \u001b[38;5;28;01mreturn\u001b[39;00m \u001b[43mintegral\u001b[49m\u001b[38;5;241;43m.\u001b[39;49m\u001b[43mdoit\u001b[49m\u001b[43m(\u001b[49m\u001b[38;5;241;43m*\u001b[39;49m\u001b[38;5;241;43m*\u001b[39;49m\u001b[43mdoit_flags\u001b[49m\u001b[43m)\u001b[49m\n\u001b[1;32m   1568\u001b[0m \u001b[38;5;28;01melse\u001b[39;00m:\n\u001b[1;32m   1569\u001b[0m     new_args \u001b[38;5;241m=\u001b[39m [a\u001b[38;5;241m.\u001b[39mdoit(\u001b[38;5;241m*\u001b[39m\u001b[38;5;241m*\u001b[39mdoit_flags) \u001b[38;5;28;01mif\u001b[39;00m \u001b[38;5;28misinstance\u001b[39m(a, Integral) \u001b[38;5;28;01melse\u001b[39;00m a\n\u001b[1;32m   1570\u001b[0m         \u001b[38;5;28;01mfor\u001b[39;00m a \u001b[38;5;129;01min\u001b[39;00m integral\u001b[38;5;241m.\u001b[39margs]\n",
      "File \u001b[0;32m~/opt/anaconda3/lib/python3.8/site-packages/sympy/integrals/integrals.py:612\u001b[0m, in \u001b[0;36mIntegral.doit\u001b[0;34m(self, **hints)\u001b[0m\n\u001b[1;32m    610\u001b[0m     antideriv \u001b[38;5;241m=\u001b[39m \u001b[38;5;28;01mNone\u001b[39;00m\n\u001b[1;32m    611\u001b[0m \u001b[38;5;28;01melse\u001b[39;00m:\n\u001b[0;32m--> 612\u001b[0m     antideriv \u001b[38;5;241m=\u001b[39m \u001b[38;5;28;43mself\u001b[39;49m\u001b[38;5;241;43m.\u001b[39;49m\u001b[43m_eval_integral\u001b[49m\u001b[43m(\u001b[49m\n\u001b[1;32m    613\u001b[0m \u001b[43m        \u001b[49m\u001b[43mfunction\u001b[49m\u001b[43m,\u001b[49m\u001b[43m \u001b[49m\u001b[43mxab\u001b[49m\u001b[43m[\u001b[49m\u001b[38;5;241;43m0\u001b[39;49m\u001b[43m]\u001b[49m\u001b[43m,\u001b[49m\u001b[43m \u001b[49m\u001b[38;5;241;43m*\u001b[39;49m\u001b[38;5;241;43m*\u001b[39;49m\u001b[43meval_kwargs\u001b[49m\u001b[43m)\u001b[49m\n\u001b[1;32m    614\u001b[0m     \u001b[38;5;28;01mif\u001b[39;00m antideriv \u001b[38;5;129;01mis\u001b[39;00m \u001b[38;5;28;01mNone\u001b[39;00m \u001b[38;5;129;01mand\u001b[39;00m meijerg \u001b[38;5;129;01mis\u001b[39;00m \u001b[38;5;28;01mTrue\u001b[39;00m:\n\u001b[1;32m    615\u001b[0m         ret \u001b[38;5;241m=\u001b[39m try_meijerg(function, xab)\n",
      "File \u001b[0;32m~/opt/anaconda3/lib/python3.8/site-packages/sympy/integrals/integrals.py:967\u001b[0m, in \u001b[0;36mIntegral._eval_integral\u001b[0;34m(self, f, x, meijerg, risch, manual, heurisch, conds, final)\u001b[0m\n\u001b[1;32m    960\u001b[0m \u001b[38;5;28;01mif\u001b[39;00m i:\n\u001b[1;32m    961\u001b[0m     \u001b[38;5;66;03m# There was a nonelementary integral. Try integrating it.\u001b[39;00m\n\u001b[1;32m    962\u001b[0m \n\u001b[1;32m    963\u001b[0m     \u001b[38;5;66;03m# if no part of the NonElementaryIntegral is integrated by\u001b[39;00m\n\u001b[1;32m    964\u001b[0m     \u001b[38;5;66;03m# the Risch algorithm, then use the original function to\u001b[39;00m\n\u001b[1;32m    965\u001b[0m     \u001b[38;5;66;03m# integrate, instead of re-written one\u001b[39;00m\n\u001b[1;32m    966\u001b[0m     \u001b[38;5;28;01mif\u001b[39;00m result \u001b[38;5;241m==\u001b[39m \u001b[38;5;241m0\u001b[39m:\n\u001b[0;32m--> 967\u001b[0m         \u001b[38;5;28;01mreturn\u001b[39;00m \u001b[43mNonElementaryIntegral\u001b[49m\u001b[43m(\u001b[49m\u001b[43mf\u001b[49m\u001b[43m,\u001b[49m\u001b[43m \u001b[49m\u001b[43mx\u001b[49m\u001b[43m)\u001b[49m\u001b[38;5;241;43m.\u001b[39;49m\u001b[43mdoit\u001b[49m\u001b[43m(\u001b[49m\u001b[43mrisch\u001b[49m\u001b[38;5;241;43m=\u001b[39;49m\u001b[38;5;28;43;01mFalse\u001b[39;49;00m\u001b[43m)\u001b[49m\n\u001b[1;32m    968\u001b[0m     \u001b[38;5;28;01melse\u001b[39;00m:\n\u001b[1;32m    969\u001b[0m         \u001b[38;5;28;01mreturn\u001b[39;00m result \u001b[38;5;241m+\u001b[39m i\u001b[38;5;241m.\u001b[39mdoit(risch\u001b[38;5;241m=\u001b[39m\u001b[38;5;28;01mFalse\u001b[39;00m)\n",
      "File \u001b[0;32m~/opt/anaconda3/lib/python3.8/site-packages/sympy/integrals/integrals.py:612\u001b[0m, in \u001b[0;36mIntegral.doit\u001b[0;34m(self, **hints)\u001b[0m\n\u001b[1;32m    610\u001b[0m     antideriv \u001b[38;5;241m=\u001b[39m \u001b[38;5;28;01mNone\u001b[39;00m\n\u001b[1;32m    611\u001b[0m \u001b[38;5;28;01melse\u001b[39;00m:\n\u001b[0;32m--> 612\u001b[0m     antideriv \u001b[38;5;241m=\u001b[39m \u001b[38;5;28;43mself\u001b[39;49m\u001b[38;5;241;43m.\u001b[39;49m\u001b[43m_eval_integral\u001b[49m\u001b[43m(\u001b[49m\n\u001b[1;32m    613\u001b[0m \u001b[43m        \u001b[49m\u001b[43mfunction\u001b[49m\u001b[43m,\u001b[49m\u001b[43m \u001b[49m\u001b[43mxab\u001b[49m\u001b[43m[\u001b[49m\u001b[38;5;241;43m0\u001b[39;49m\u001b[43m]\u001b[49m\u001b[43m,\u001b[49m\u001b[43m \u001b[49m\u001b[38;5;241;43m*\u001b[39;49m\u001b[38;5;241;43m*\u001b[39;49m\u001b[43meval_kwargs\u001b[49m\u001b[43m)\u001b[49m\n\u001b[1;32m    614\u001b[0m     \u001b[38;5;28;01mif\u001b[39;00m antideriv \u001b[38;5;129;01mis\u001b[39;00m \u001b[38;5;28;01mNone\u001b[39;00m \u001b[38;5;129;01mand\u001b[39;00m meijerg \u001b[38;5;129;01mis\u001b[39;00m \u001b[38;5;28;01mTrue\u001b[39;00m:\n\u001b[1;32m    615\u001b[0m         ret \u001b[38;5;241m=\u001b[39m try_meijerg(function, xab)\n",
      "File \u001b[0;32m~/opt/anaconda3/lib/python3.8/site-packages/sympy/integrals/integrals.py:1084\u001b[0m, in \u001b[0;36mIntegral._eval_integral\u001b[0;34m(self, f, x, meijerg, risch, manual, heurisch, conds, final)\u001b[0m\n\u001b[1;32m   1082\u001b[0m \u001b[38;5;28;01mtry\u001b[39;00m:\n\u001b[1;32m   1083\u001b[0m     \u001b[38;5;28;01mif\u001b[39;00m conds \u001b[38;5;241m==\u001b[39m \u001b[38;5;124m'\u001b[39m\u001b[38;5;124mpiecewise\u001b[39m\u001b[38;5;124m'\u001b[39m:\n\u001b[0;32m-> 1084\u001b[0m         h \u001b[38;5;241m=\u001b[39m \u001b[43mheurisch_wrapper\u001b[49m\u001b[43m(\u001b[49m\u001b[43mg\u001b[49m\u001b[43m,\u001b[49m\u001b[43m \u001b[49m\u001b[43mx\u001b[49m\u001b[43m,\u001b[49m\u001b[43m \u001b[49m\u001b[43mhints\u001b[49m\u001b[38;5;241;43m=\u001b[39;49m\u001b[43m[\u001b[49m\u001b[43m]\u001b[49m\u001b[43m)\u001b[49m\n\u001b[1;32m   1085\u001b[0m     \u001b[38;5;28;01melse\u001b[39;00m:\n\u001b[1;32m   1086\u001b[0m         h \u001b[38;5;241m=\u001b[39m heurisch_(g, x, hints\u001b[38;5;241m=\u001b[39m[])\n",
      "File \u001b[0;32m~/opt/anaconda3/lib/python3.8/site-packages/sympy/integrals/heurisch.py:143\u001b[0m, in \u001b[0;36mheurisch_wrapper\u001b[0;34m(f, x, rewrite, hints, mappings, retries, degree_offset, unnecessary_permutations, _try_heurisch)\u001b[0m\n\u001b[1;32m    140\u001b[0m \u001b[38;5;28;01mif\u001b[39;00m \u001b[38;5;129;01mnot\u001b[39;00m f\u001b[38;5;241m.\u001b[39mhas_free(x):\n\u001b[1;32m    141\u001b[0m     \u001b[38;5;28;01mreturn\u001b[39;00m f\u001b[38;5;241m*\u001b[39mx\n\u001b[0;32m--> 143\u001b[0m res \u001b[38;5;241m=\u001b[39m \u001b[43mheurisch\u001b[49m\u001b[43m(\u001b[49m\u001b[43mf\u001b[49m\u001b[43m,\u001b[49m\u001b[43m \u001b[49m\u001b[43mx\u001b[49m\u001b[43m,\u001b[49m\u001b[43m \u001b[49m\u001b[43mrewrite\u001b[49m\u001b[43m,\u001b[49m\u001b[43m \u001b[49m\u001b[43mhints\u001b[49m\u001b[43m,\u001b[49m\u001b[43m \u001b[49m\u001b[43mmappings\u001b[49m\u001b[43m,\u001b[49m\u001b[43m \u001b[49m\u001b[43mretries\u001b[49m\u001b[43m,\u001b[49m\u001b[43m \u001b[49m\u001b[43mdegree_offset\u001b[49m\u001b[43m,\u001b[49m\n\u001b[1;32m    144\u001b[0m \u001b[43m               \u001b[49m\u001b[43munnecessary_permutations\u001b[49m\u001b[43m,\u001b[49m\u001b[43m \u001b[49m\u001b[43m_try_heurisch\u001b[49m\u001b[43m)\u001b[49m\n\u001b[1;32m    145\u001b[0m \u001b[38;5;28;01mif\u001b[39;00m \u001b[38;5;129;01mnot\u001b[39;00m \u001b[38;5;28misinstance\u001b[39m(res, Basic):\n\u001b[1;32m    146\u001b[0m     \u001b[38;5;28;01mreturn\u001b[39;00m res\n",
      "File \u001b[0;32m~/opt/anaconda3/lib/python3.8/site-packages/sympy/integrals/heurisch.py:766\u001b[0m, in \u001b[0;36mheurisch\u001b[0;34m(f, x, rewrite, hints, mappings, retries, degree_offset, unnecessary_permutations, _try_heurisch)\u001b[0m\n\u001b[1;32m    764\u001b[0m \u001b[38;5;28;01melse\u001b[39;00m:\n\u001b[1;32m    765\u001b[0m     \u001b[38;5;28;01mif\u001b[39;00m retries \u001b[38;5;241m>\u001b[39m\u001b[38;5;241m=\u001b[39m \u001b[38;5;241m0\u001b[39m:\n\u001b[0;32m--> 766\u001b[0m         result \u001b[38;5;241m=\u001b[39m \u001b[43mheurisch\u001b[49m\u001b[43m(\u001b[49m\u001b[43mf\u001b[49m\u001b[43m,\u001b[49m\u001b[43m \u001b[49m\u001b[43mx\u001b[49m\u001b[43m,\u001b[49m\u001b[43m \u001b[49m\u001b[43mmappings\u001b[49m\u001b[38;5;241;43m=\u001b[39;49m\u001b[43mmappings\u001b[49m\u001b[43m,\u001b[49m\u001b[43m \u001b[49m\u001b[43mrewrite\u001b[49m\u001b[38;5;241;43m=\u001b[39;49m\u001b[43mrewrite\u001b[49m\u001b[43m,\u001b[49m\u001b[43m \u001b[49m\u001b[43mhints\u001b[49m\u001b[38;5;241;43m=\u001b[39;49m\u001b[43mhints\u001b[49m\u001b[43m,\u001b[49m\u001b[43m \u001b[49m\u001b[43mretries\u001b[49m\u001b[38;5;241;43m=\u001b[39;49m\u001b[43mretries\u001b[49m\u001b[43m \u001b[49m\u001b[38;5;241;43m-\u001b[39;49m\u001b[43m \u001b[49m\u001b[38;5;241;43m1\u001b[39;49m\u001b[43m,\u001b[49m\u001b[43m \u001b[49m\u001b[43munnecessary_permutations\u001b[49m\u001b[38;5;241;43m=\u001b[39;49m\u001b[43munnecessary_permutations\u001b[49m\u001b[43m)\u001b[49m\n\u001b[1;32m    768\u001b[0m         \u001b[38;5;28;01mif\u001b[39;00m result \u001b[38;5;129;01mis\u001b[39;00m \u001b[38;5;129;01mnot\u001b[39;00m \u001b[38;5;28;01mNone\u001b[39;00m:\n\u001b[1;32m    769\u001b[0m             \u001b[38;5;28;01mreturn\u001b[39;00m indep\u001b[38;5;241m*\u001b[39mresult\n",
      "File \u001b[0;32m~/opt/anaconda3/lib/python3.8/site-packages/sympy/integrals/heurisch.py:766\u001b[0m, in \u001b[0;36mheurisch\u001b[0;34m(f, x, rewrite, hints, mappings, retries, degree_offset, unnecessary_permutations, _try_heurisch)\u001b[0m\n\u001b[1;32m    764\u001b[0m \u001b[38;5;28;01melse\u001b[39;00m:\n\u001b[1;32m    765\u001b[0m     \u001b[38;5;28;01mif\u001b[39;00m retries \u001b[38;5;241m>\u001b[39m\u001b[38;5;241m=\u001b[39m \u001b[38;5;241m0\u001b[39m:\n\u001b[0;32m--> 766\u001b[0m         result \u001b[38;5;241m=\u001b[39m \u001b[43mheurisch\u001b[49m\u001b[43m(\u001b[49m\u001b[43mf\u001b[49m\u001b[43m,\u001b[49m\u001b[43m \u001b[49m\u001b[43mx\u001b[49m\u001b[43m,\u001b[49m\u001b[43m \u001b[49m\u001b[43mmappings\u001b[49m\u001b[38;5;241;43m=\u001b[39;49m\u001b[43mmappings\u001b[49m\u001b[43m,\u001b[49m\u001b[43m \u001b[49m\u001b[43mrewrite\u001b[49m\u001b[38;5;241;43m=\u001b[39;49m\u001b[43mrewrite\u001b[49m\u001b[43m,\u001b[49m\u001b[43m \u001b[49m\u001b[43mhints\u001b[49m\u001b[38;5;241;43m=\u001b[39;49m\u001b[43mhints\u001b[49m\u001b[43m,\u001b[49m\u001b[43m \u001b[49m\u001b[43mretries\u001b[49m\u001b[38;5;241;43m=\u001b[39;49m\u001b[43mretries\u001b[49m\u001b[43m \u001b[49m\u001b[38;5;241;43m-\u001b[39;49m\u001b[43m \u001b[49m\u001b[38;5;241;43m1\u001b[39;49m\u001b[43m,\u001b[49m\u001b[43m \u001b[49m\u001b[43munnecessary_permutations\u001b[49m\u001b[38;5;241;43m=\u001b[39;49m\u001b[43munnecessary_permutations\u001b[49m\u001b[43m)\u001b[49m\n\u001b[1;32m    768\u001b[0m         \u001b[38;5;28;01mif\u001b[39;00m result \u001b[38;5;129;01mis\u001b[39;00m \u001b[38;5;129;01mnot\u001b[39;00m \u001b[38;5;28;01mNone\u001b[39;00m:\n\u001b[1;32m    769\u001b[0m             \u001b[38;5;28;01mreturn\u001b[39;00m indep\u001b[38;5;241m*\u001b[39mresult\n",
      "File \u001b[0;32m~/opt/anaconda3/lib/python3.8/site-packages/sympy/integrals/heurisch.py:766\u001b[0m, in \u001b[0;36mheurisch\u001b[0;34m(f, x, rewrite, hints, mappings, retries, degree_offset, unnecessary_permutations, _try_heurisch)\u001b[0m\n\u001b[1;32m    764\u001b[0m \u001b[38;5;28;01melse\u001b[39;00m:\n\u001b[1;32m    765\u001b[0m     \u001b[38;5;28;01mif\u001b[39;00m retries \u001b[38;5;241m>\u001b[39m\u001b[38;5;241m=\u001b[39m \u001b[38;5;241m0\u001b[39m:\n\u001b[0;32m--> 766\u001b[0m         result \u001b[38;5;241m=\u001b[39m \u001b[43mheurisch\u001b[49m\u001b[43m(\u001b[49m\u001b[43mf\u001b[49m\u001b[43m,\u001b[49m\u001b[43m \u001b[49m\u001b[43mx\u001b[49m\u001b[43m,\u001b[49m\u001b[43m \u001b[49m\u001b[43mmappings\u001b[49m\u001b[38;5;241;43m=\u001b[39;49m\u001b[43mmappings\u001b[49m\u001b[43m,\u001b[49m\u001b[43m \u001b[49m\u001b[43mrewrite\u001b[49m\u001b[38;5;241;43m=\u001b[39;49m\u001b[43mrewrite\u001b[49m\u001b[43m,\u001b[49m\u001b[43m \u001b[49m\u001b[43mhints\u001b[49m\u001b[38;5;241;43m=\u001b[39;49m\u001b[43mhints\u001b[49m\u001b[43m,\u001b[49m\u001b[43m \u001b[49m\u001b[43mretries\u001b[49m\u001b[38;5;241;43m=\u001b[39;49m\u001b[43mretries\u001b[49m\u001b[43m \u001b[49m\u001b[38;5;241;43m-\u001b[39;49m\u001b[43m \u001b[49m\u001b[38;5;241;43m1\u001b[39;49m\u001b[43m,\u001b[49m\u001b[43m \u001b[49m\u001b[43munnecessary_permutations\u001b[49m\u001b[38;5;241;43m=\u001b[39;49m\u001b[43munnecessary_permutations\u001b[49m\u001b[43m)\u001b[49m\n\u001b[1;32m    768\u001b[0m         \u001b[38;5;28;01mif\u001b[39;00m result \u001b[38;5;129;01mis\u001b[39;00m \u001b[38;5;129;01mnot\u001b[39;00m \u001b[38;5;28;01mNone\u001b[39;00m:\n\u001b[1;32m    769\u001b[0m             \u001b[38;5;28;01mreturn\u001b[39;00m indep\u001b[38;5;241m*\u001b[39mresult\n",
      "File \u001b[0;32m~/opt/anaconda3/lib/python3.8/site-packages/sympy/integrals/heurisch.py:754\u001b[0m, in \u001b[0;36mheurisch\u001b[0;34m(f, x, rewrite, hints, mappings, retries, degree_offset, unnecessary_permutations, _try_heurisch)\u001b[0m\n\u001b[1;32m    752\u001b[0m         solution \u001b[38;5;241m=\u001b[39m _integrate()\n\u001b[1;32m    753\u001b[0m \u001b[38;5;28;01melse\u001b[39;00m:\n\u001b[0;32m--> 754\u001b[0m     solution \u001b[38;5;241m=\u001b[39m \u001b[43m_integrate\u001b[49m\u001b[43m(\u001b[49m\u001b[43m)\u001b[49m\n\u001b[1;32m    756\u001b[0m \u001b[38;5;28;01mif\u001b[39;00m solution \u001b[38;5;129;01mis\u001b[39;00m \u001b[38;5;129;01mnot\u001b[39;00m \u001b[38;5;28;01mNone\u001b[39;00m:\n\u001b[1;32m    757\u001b[0m     antideriv \u001b[38;5;241m=\u001b[39m solution\u001b[38;5;241m.\u001b[39msubs(rev_mapping)\n",
      "File \u001b[0;32m~/opt/anaconda3/lib/python3.8/site-packages/sympy/integrals/heurisch.py:730\u001b[0m, in \u001b[0;36mheurisch.<locals>._integrate\u001b[0;34m(field)\u001b[0m\n\u001b[1;32m    728\u001b[0m ring \u001b[38;5;241m=\u001b[39m PolyRing(V, coeff_ring)\n\u001b[1;32m    729\u001b[0m \u001b[38;5;28;01mtry\u001b[39;00m:\n\u001b[0;32m--> 730\u001b[0m     numer \u001b[38;5;241m=\u001b[39m \u001b[43mring\u001b[49m\u001b[38;5;241;43m.\u001b[39;49m\u001b[43mfrom_expr\u001b[49m\u001b[43m(\u001b[49m\u001b[43mraw_numer\u001b[49m\u001b[43m)\u001b[49m\n\u001b[1;32m    731\u001b[0m \u001b[38;5;28;01mexcept\u001b[39;00m \u001b[38;5;167;01mValueError\u001b[39;00m:\n\u001b[1;32m    732\u001b[0m     \u001b[38;5;28;01mraise\u001b[39;00m PolynomialError\n",
      "File \u001b[0;32m~/opt/anaconda3/lib/python3.8/site-packages/sympy/polys/rings.py:397\u001b[0m, in \u001b[0;36mPolyRing.from_expr\u001b[0;34m(self, expr)\u001b[0m\n\u001b[1;32m    394\u001b[0m mapping \u001b[38;5;241m=\u001b[39m \u001b[38;5;28mdict\u001b[39m(\u001b[38;5;28mlist\u001b[39m(\u001b[38;5;28mzip\u001b[39m(\u001b[38;5;28mself\u001b[39m\u001b[38;5;241m.\u001b[39msymbols, \u001b[38;5;28mself\u001b[39m\u001b[38;5;241m.\u001b[39mgens)))\n\u001b[1;32m    396\u001b[0m \u001b[38;5;28;01mtry\u001b[39;00m:\n\u001b[0;32m--> 397\u001b[0m     poly \u001b[38;5;241m=\u001b[39m \u001b[38;5;28;43mself\u001b[39;49m\u001b[38;5;241;43m.\u001b[39;49m\u001b[43m_rebuild_expr\u001b[49m\u001b[43m(\u001b[49m\u001b[43mexpr\u001b[49m\u001b[43m,\u001b[49m\u001b[43m \u001b[49m\u001b[43mmapping\u001b[49m\u001b[43m)\u001b[49m\n\u001b[1;32m    398\u001b[0m \u001b[38;5;28;01mexcept\u001b[39;00m CoercionFailed:\n\u001b[1;32m    399\u001b[0m     \u001b[38;5;28;01mraise\u001b[39;00m \u001b[38;5;167;01mValueError\u001b[39;00m(\u001b[38;5;124m\"\u001b[39m\u001b[38;5;124mexpected an expression convertible to a polynomial in \u001b[39m\u001b[38;5;132;01m%s\u001b[39;00m\u001b[38;5;124m, got \u001b[39m\u001b[38;5;132;01m%s\u001b[39;00m\u001b[38;5;124m\"\u001b[39m \u001b[38;5;241m%\u001b[39m (\u001b[38;5;28mself\u001b[39m, expr))\n",
      "File \u001b[0;32m~/opt/anaconda3/lib/python3.8/site-packages/sympy/polys/rings.py:391\u001b[0m, in \u001b[0;36mPolyRing._rebuild_expr\u001b[0;34m(self, expr, mapping)\u001b[0m\n\u001b[1;32m    388\u001b[0m         \u001b[38;5;28;01melse\u001b[39;00m:\n\u001b[1;32m    389\u001b[0m             \u001b[38;5;28;01mreturn\u001b[39;00m \u001b[38;5;28mself\u001b[39m\u001b[38;5;241m.\u001b[39mground_new(domain\u001b[38;5;241m.\u001b[39mconvert(expr))\n\u001b[0;32m--> 391\u001b[0m \u001b[38;5;28;01mreturn\u001b[39;00m \u001b[43m_rebuild\u001b[49m\u001b[43m(\u001b[49m\u001b[43msympify\u001b[49m\u001b[43m(\u001b[49m\u001b[43mexpr\u001b[49m\u001b[43m)\u001b[49m\u001b[43m)\u001b[49m\n",
      "File \u001b[0;32m~/opt/anaconda3/lib/python3.8/site-packages/sympy/polys/rings.py:379\u001b[0m, in \u001b[0;36mPolyRing._rebuild_expr.<locals>._rebuild\u001b[0;34m(expr)\u001b[0m\n\u001b[1;32m    377\u001b[0m     \u001b[38;5;28;01mreturn\u001b[39;00m generator\n\u001b[1;32m    378\u001b[0m \u001b[38;5;28;01melif\u001b[39;00m expr\u001b[38;5;241m.\u001b[39mis_Add:\n\u001b[0;32m--> 379\u001b[0m     \u001b[38;5;28;01mreturn\u001b[39;00m reduce(add, \u001b[38;5;28;43mlist\u001b[39;49m\u001b[43m(\u001b[49m\u001b[38;5;28;43mmap\u001b[39;49m\u001b[43m(\u001b[49m\u001b[43m_rebuild\u001b[49m\u001b[43m,\u001b[49m\u001b[43m \u001b[49m\u001b[43mexpr\u001b[49m\u001b[38;5;241;43m.\u001b[39;49m\u001b[43margs\u001b[49m\u001b[43m)\u001b[49m\u001b[43m)\u001b[49m)\n\u001b[1;32m    380\u001b[0m \u001b[38;5;28;01melif\u001b[39;00m expr\u001b[38;5;241m.\u001b[39mis_Mul:\n\u001b[1;32m    381\u001b[0m     \u001b[38;5;28;01mreturn\u001b[39;00m reduce(mul, \u001b[38;5;28mlist\u001b[39m(\u001b[38;5;28mmap\u001b[39m(_rebuild, expr\u001b[38;5;241m.\u001b[39margs)))\n",
      "File \u001b[0;32m~/opt/anaconda3/lib/python3.8/site-packages/sympy/polys/rings.py:381\u001b[0m, in \u001b[0;36mPolyRing._rebuild_expr.<locals>._rebuild\u001b[0;34m(expr)\u001b[0m\n\u001b[1;32m    379\u001b[0m     \u001b[38;5;28;01mreturn\u001b[39;00m reduce(add, \u001b[38;5;28mlist\u001b[39m(\u001b[38;5;28mmap\u001b[39m(_rebuild, expr\u001b[38;5;241m.\u001b[39margs)))\n\u001b[1;32m    380\u001b[0m \u001b[38;5;28;01melif\u001b[39;00m expr\u001b[38;5;241m.\u001b[39mis_Mul:\n\u001b[0;32m--> 381\u001b[0m     \u001b[38;5;28;01mreturn\u001b[39;00m reduce(mul, \u001b[38;5;28;43mlist\u001b[39;49m\u001b[43m(\u001b[49m\u001b[38;5;28;43mmap\u001b[39;49m\u001b[43m(\u001b[49m\u001b[43m_rebuild\u001b[49m\u001b[43m,\u001b[49m\u001b[43m \u001b[49m\u001b[43mexpr\u001b[49m\u001b[38;5;241;43m.\u001b[39;49m\u001b[43margs\u001b[49m\u001b[43m)\u001b[49m\u001b[43m)\u001b[49m)\n\u001b[1;32m    382\u001b[0m \u001b[38;5;28;01melse\u001b[39;00m:\n\u001b[1;32m    383\u001b[0m     \u001b[38;5;66;03m# XXX: Use as_base_exp() to handle Pow(x, n) and also exp(n)\u001b[39;00m\n\u001b[1;32m    384\u001b[0m     \u001b[38;5;66;03m# XXX: E can be a generator e.g. sring([exp(2)]) -> ZZ[E]\u001b[39;00m\n\u001b[1;32m    385\u001b[0m     base, exp \u001b[38;5;241m=\u001b[39m expr\u001b[38;5;241m.\u001b[39mas_base_exp()\n",
      "File \u001b[0;32m~/opt/anaconda3/lib/python3.8/site-packages/sympy/polys/rings.py:379\u001b[0m, in \u001b[0;36mPolyRing._rebuild_expr.<locals>._rebuild\u001b[0;34m(expr)\u001b[0m\n\u001b[1;32m    377\u001b[0m     \u001b[38;5;28;01mreturn\u001b[39;00m generator\n\u001b[1;32m    378\u001b[0m \u001b[38;5;28;01melif\u001b[39;00m expr\u001b[38;5;241m.\u001b[39mis_Add:\n\u001b[0;32m--> 379\u001b[0m     \u001b[38;5;28;01mreturn\u001b[39;00m reduce(add, \u001b[38;5;28;43mlist\u001b[39;49m\u001b[43m(\u001b[49m\u001b[38;5;28;43mmap\u001b[39;49m\u001b[43m(\u001b[49m\u001b[43m_rebuild\u001b[49m\u001b[43m,\u001b[49m\u001b[43m \u001b[49m\u001b[43mexpr\u001b[49m\u001b[38;5;241;43m.\u001b[39;49m\u001b[43margs\u001b[49m\u001b[43m)\u001b[49m\u001b[43m)\u001b[49m)\n\u001b[1;32m    380\u001b[0m \u001b[38;5;28;01melif\u001b[39;00m expr\u001b[38;5;241m.\u001b[39mis_Mul:\n\u001b[1;32m    381\u001b[0m     \u001b[38;5;28;01mreturn\u001b[39;00m reduce(mul, \u001b[38;5;28mlist\u001b[39m(\u001b[38;5;28mmap\u001b[39m(_rebuild, expr\u001b[38;5;241m.\u001b[39margs)))\n",
      "File \u001b[0;32m~/opt/anaconda3/lib/python3.8/site-packages/sympy/polys/rings.py:381\u001b[0m, in \u001b[0;36mPolyRing._rebuild_expr.<locals>._rebuild\u001b[0;34m(expr)\u001b[0m\n\u001b[1;32m    379\u001b[0m     \u001b[38;5;28;01mreturn\u001b[39;00m reduce(add, \u001b[38;5;28mlist\u001b[39m(\u001b[38;5;28mmap\u001b[39m(_rebuild, expr\u001b[38;5;241m.\u001b[39margs)))\n\u001b[1;32m    380\u001b[0m \u001b[38;5;28;01melif\u001b[39;00m expr\u001b[38;5;241m.\u001b[39mis_Mul:\n\u001b[0;32m--> 381\u001b[0m     \u001b[38;5;28;01mreturn\u001b[39;00m \u001b[43mreduce\u001b[49m\u001b[43m(\u001b[49m\u001b[43mmul\u001b[49m\u001b[43m,\u001b[49m\u001b[43m \u001b[49m\u001b[38;5;28;43mlist\u001b[39;49m\u001b[43m(\u001b[49m\u001b[38;5;28;43mmap\u001b[39;49m\u001b[43m(\u001b[49m\u001b[43m_rebuild\u001b[49m\u001b[43m,\u001b[49m\u001b[43m \u001b[49m\u001b[43mexpr\u001b[49m\u001b[38;5;241;43m.\u001b[39;49m\u001b[43margs\u001b[49m\u001b[43m)\u001b[49m\u001b[43m)\u001b[49m\u001b[43m)\u001b[49m\n\u001b[1;32m    382\u001b[0m \u001b[38;5;28;01melse\u001b[39;00m:\n\u001b[1;32m    383\u001b[0m     \u001b[38;5;66;03m# XXX: Use as_base_exp() to handle Pow(x, n) and also exp(n)\u001b[39;00m\n\u001b[1;32m    384\u001b[0m     \u001b[38;5;66;03m# XXX: E can be a generator e.g. sring([exp(2)]) -> ZZ[E]\u001b[39;00m\n\u001b[1;32m    385\u001b[0m     base, exp \u001b[38;5;241m=\u001b[39m expr\u001b[38;5;241m.\u001b[39mas_base_exp()\n",
      "File \u001b[0;32m~/opt/anaconda3/lib/python3.8/site-packages/sympy/polys/rings.py:1099\u001b[0m, in \u001b[0;36mPolyElement.__mul__\u001b[0;34m(p1, p2)\u001b[0m\n\u001b[1;32m   1097\u001b[0m     \u001b[38;5;28;01mfor\u001b[39;00m exp2, v2 \u001b[38;5;129;01min\u001b[39;00m p2it:\n\u001b[1;32m   1098\u001b[0m         exp \u001b[38;5;241m=\u001b[39m monomial_mul(exp1, exp2)\n\u001b[0;32m-> 1099\u001b[0m         p[exp] \u001b[38;5;241m=\u001b[39m get(exp, zero) \u001b[38;5;241m+\u001b[39m \u001b[43mv1\u001b[49m\u001b[38;5;241;43m*\u001b[39;49m\u001b[43mv2\u001b[49m\n\u001b[1;32m   1100\u001b[0m p\u001b[38;5;241m.\u001b[39mstrip_zero()\n\u001b[1;32m   1101\u001b[0m \u001b[38;5;28;01mreturn\u001b[39;00m p\n",
      "File \u001b[0;32m~/opt/anaconda3/lib/python3.8/site-packages/sympy/polys/rings.py:1099\u001b[0m, in \u001b[0;36mPolyElement.__mul__\u001b[0;34m(p1, p2)\u001b[0m\n\u001b[1;32m   1097\u001b[0m     \u001b[38;5;28;01mfor\u001b[39;00m exp2, v2 \u001b[38;5;129;01min\u001b[39;00m p2it:\n\u001b[1;32m   1098\u001b[0m         exp \u001b[38;5;241m=\u001b[39m monomial_mul(exp1, exp2)\n\u001b[0;32m-> 1099\u001b[0m         p[exp] \u001b[38;5;241m=\u001b[39m get(exp, zero) \u001b[38;5;241m+\u001b[39m \u001b[43mv1\u001b[49m\u001b[38;5;241;43m*\u001b[39;49m\u001b[43mv2\u001b[49m\n\u001b[1;32m   1100\u001b[0m p\u001b[38;5;241m.\u001b[39mstrip_zero()\n\u001b[1;32m   1101\u001b[0m \u001b[38;5;28;01mreturn\u001b[39;00m p\n",
      "File \u001b[0;32m~/opt/anaconda3/lib/python3.8/site-packages/sympy/polys/domains/expressiondomain.py:105\u001b[0m, in \u001b[0;36mExpressionDomain.Expression.__mul__\u001b[0;34m(f, g)\u001b[0m\n\u001b[1;32m    102\u001b[0m \u001b[38;5;28;01melif\u001b[39;00m f\u001b[38;5;241m.\u001b[39mex\u001b[38;5;241m.\u001b[39mis_Number \u001b[38;5;129;01mand\u001b[39;00m g\u001b[38;5;241m.\u001b[39mex\u001b[38;5;241m.\u001b[39mis_Number:\n\u001b[1;32m    103\u001b[0m     \u001b[38;5;28;01mreturn\u001b[39;00m f\u001b[38;5;241m.\u001b[39m\u001b[38;5;18m__class__\u001b[39m(f\u001b[38;5;241m.\u001b[39mex\u001b[38;5;241m*\u001b[39mg\u001b[38;5;241m.\u001b[39mex)\n\u001b[0;32m--> 105\u001b[0m \u001b[38;5;28;01mreturn\u001b[39;00m \u001b[43mf\u001b[49m\u001b[38;5;241;43m.\u001b[39;49m\u001b[43msimplify\u001b[49m\u001b[43m(\u001b[49m\u001b[43mf\u001b[49m\u001b[38;5;241;43m.\u001b[39;49m\u001b[43mex\u001b[49m\u001b[38;5;241;43m*\u001b[39;49m\u001b[43mg\u001b[49m\u001b[38;5;241;43m.\u001b[39;49m\u001b[43mex\u001b[49m\u001b[43m)\u001b[49m\n",
      "File \u001b[0;32m~/opt/anaconda3/lib/python3.8/site-packages/sympy/polys/domains/expressiondomain.py:50\u001b[0m, in \u001b[0;36mExpressionDomain.Expression.simplify\u001b[0;34m(f, ex)\u001b[0m\n\u001b[1;32m     49\u001b[0m \u001b[38;5;28;01mdef\u001b[39;00m \u001b[38;5;21msimplify\u001b[39m(f, ex):\n\u001b[0;32m---> 50\u001b[0m     \u001b[38;5;28;01mreturn\u001b[39;00m f\u001b[38;5;241m.\u001b[39m\u001b[38;5;18m__class__\u001b[39m(\u001b[43mex\u001b[49m\u001b[38;5;241;43m.\u001b[39;49m\u001b[43mcancel\u001b[49m\u001b[43m(\u001b[49m\u001b[43m)\u001b[49m\u001b[38;5;241m.\u001b[39mexpand(\u001b[38;5;241m*\u001b[39m\u001b[38;5;241m*\u001b[39meflags))\n",
      "File \u001b[0;32m~/opt/anaconda3/lib/python3.8/site-packages/sympy/core/expr.py:3760\u001b[0m, in \u001b[0;36mExpr.cancel\u001b[0;34m(self, *gens, **args)\u001b[0m\n\u001b[1;32m   3758\u001b[0m \u001b[38;5;124;03m\"\"\"See the cancel function in sympy.polys\"\"\"\u001b[39;00m\n\u001b[1;32m   3759\u001b[0m \u001b[38;5;28;01mfrom\u001b[39;00m \u001b[38;5;21;01msympy\u001b[39;00m\u001b[38;5;21;01m.\u001b[39;00m\u001b[38;5;21;01mpolys\u001b[39;00m\u001b[38;5;21;01m.\u001b[39;00m\u001b[38;5;21;01mpolytools\u001b[39;00m \u001b[38;5;28;01mimport\u001b[39;00m cancel\n\u001b[0;32m-> 3760\u001b[0m \u001b[38;5;28;01mreturn\u001b[39;00m \u001b[43mcancel\u001b[49m\u001b[43m(\u001b[49m\u001b[38;5;28;43mself\u001b[39;49m\u001b[43m,\u001b[49m\u001b[43m \u001b[49m\u001b[38;5;241;43m*\u001b[39;49m\u001b[43mgens\u001b[49m\u001b[43m,\u001b[49m\u001b[43m \u001b[49m\u001b[38;5;241;43m*\u001b[39;49m\u001b[38;5;241;43m*\u001b[39;49m\u001b[43margs\u001b[49m\u001b[43m)\u001b[49m\n",
      "File \u001b[0;32m~/opt/anaconda3/lib/python3.8/site-packages/sympy/polys/polytools.py:6747\u001b[0m, in \u001b[0;36mcancel\u001b[0;34m(f, _signsimp, *gens, **args)\u001b[0m\n\u001b[1;32m   6745\u001b[0m     \u001b[38;5;28;01mif\u001b[39;00m f\u001b[38;5;241m.\u001b[39mis_Number \u001b[38;5;129;01mor\u001b[39;00m \u001b[38;5;28misinstance\u001b[39m(f, Relational) \u001b[38;5;129;01mor\u001b[39;00m \u001b[38;5;129;01mnot\u001b[39;00m \u001b[38;5;28misinstance\u001b[39m(f, Expr):\n\u001b[1;32m   6746\u001b[0m         \u001b[38;5;28;01mreturn\u001b[39;00m f\n\u001b[0;32m-> 6747\u001b[0m     f \u001b[38;5;241m=\u001b[39m \u001b[43mfactor_terms\u001b[49m\u001b[43m(\u001b[49m\u001b[43mf\u001b[49m\u001b[43m,\u001b[49m\u001b[43m \u001b[49m\u001b[43mradical\u001b[49m\u001b[38;5;241;43m=\u001b[39;49m\u001b[38;5;28;43;01mTrue\u001b[39;49;00m\u001b[43m)\u001b[49m\n\u001b[1;32m   6748\u001b[0m     p, q \u001b[38;5;241m=\u001b[39m f\u001b[38;5;241m.\u001b[39mas_numer_denom()\n\u001b[1;32m   6750\u001b[0m \u001b[38;5;28;01melif\u001b[39;00m \u001b[38;5;28mlen\u001b[39m(f) \u001b[38;5;241m==\u001b[39m \u001b[38;5;241m2\u001b[39m:\n",
      "File \u001b[0;32m~/opt/anaconda3/lib/python3.8/site-packages/sympy/core/exprtools.py:1278\u001b[0m, in \u001b[0;36mfactor_terms\u001b[0;34m(expr, radical, clear, fraction, sign)\u001b[0m\n\u001b[1;32m   1276\u001b[0m     \u001b[38;5;28;01mreturn\u001b[39;00m rv\n\u001b[1;32m   1277\u001b[0m expr \u001b[38;5;241m=\u001b[39m sympify(expr)\n\u001b[0;32m-> 1278\u001b[0m \u001b[38;5;28;01mreturn\u001b[39;00m \u001b[43mdo\u001b[49m\u001b[43m(\u001b[49m\u001b[43mexpr\u001b[49m\u001b[43m)\u001b[49m\n",
      "File \u001b[0;32m~/opt/anaconda3/lib/python3.8/site-packages/sympy/core/exprtools.py:1251\u001b[0m, in \u001b[0;36mfactor_terms.<locals>.do\u001b[0;34m(expr)\u001b[0m\n\u001b[1;32m   1246\u001b[0m \u001b[38;5;28;01mif\u001b[39;00m \u001b[38;5;28misinstance\u001b[39m(expr, (Sum, Integral)):\n\u001b[1;32m   1247\u001b[0m     \u001b[38;5;28;01mreturn\u001b[39;00m _factor_sum_int(expr,\n\u001b[1;32m   1248\u001b[0m         radical\u001b[38;5;241m=\u001b[39mradical, clear\u001b[38;5;241m=\u001b[39mclear,\n\u001b[1;32m   1249\u001b[0m         fraction\u001b[38;5;241m=\u001b[39mfraction, sign\u001b[38;5;241m=\u001b[39msign)\n\u001b[0;32m-> 1251\u001b[0m cont, p \u001b[38;5;241m=\u001b[39m \u001b[43mexpr\u001b[49m\u001b[38;5;241;43m.\u001b[39;49m\u001b[43mas_content_primitive\u001b[49m\u001b[43m(\u001b[49m\u001b[43mradical\u001b[49m\u001b[38;5;241;43m=\u001b[39;49m\u001b[43mradical\u001b[49m\u001b[43m,\u001b[49m\u001b[43m \u001b[49m\u001b[43mclear\u001b[49m\u001b[38;5;241;43m=\u001b[39;49m\u001b[43mclear\u001b[49m\u001b[43m)\u001b[49m\n\u001b[1;32m   1252\u001b[0m \u001b[38;5;28;01mif\u001b[39;00m p\u001b[38;5;241m.\u001b[39mis_Add:\n\u001b[1;32m   1253\u001b[0m     list_args \u001b[38;5;241m=\u001b[39m [do(a) \u001b[38;5;28;01mfor\u001b[39;00m a \u001b[38;5;129;01min\u001b[39;00m Add\u001b[38;5;241m.\u001b[39mmake_args(p)]\n",
      "File \u001b[0;32m~/opt/anaconda3/lib/python3.8/site-packages/sympy/core/mul.py:2002\u001b[0m, in \u001b[0;36mMul.as_content_primitive\u001b[0;34m(self, radical, clear)\u001b[0m\n\u001b[1;32m   2000\u001b[0m \u001b[38;5;28;01mfor\u001b[39;00m a \u001b[38;5;129;01min\u001b[39;00m \u001b[38;5;28mself\u001b[39m\u001b[38;5;241m.\u001b[39margs:\n\u001b[1;32m   2001\u001b[0m     c, p \u001b[38;5;241m=\u001b[39m a\u001b[38;5;241m.\u001b[39mas_content_primitive(radical\u001b[38;5;241m=\u001b[39mradical, clear\u001b[38;5;241m=\u001b[39mclear)\n\u001b[0;32m-> 2002\u001b[0m     coef \u001b[38;5;241m*\u001b[39m\u001b[38;5;241m=\u001b[39m c\n\u001b[1;32m   2003\u001b[0m     \u001b[38;5;28;01mif\u001b[39;00m p \u001b[38;5;129;01mis\u001b[39;00m \u001b[38;5;129;01mnot\u001b[39;00m S\u001b[38;5;241m.\u001b[39mOne:\n\u001b[1;32m   2004\u001b[0m         args\u001b[38;5;241m.\u001b[39mappend(p)\n",
      "File \u001b[0;32m~/opt/anaconda3/lib/python3.8/site-packages/sympy/core/numbers.py:2205\u001b[0m, in \u001b[0;36mInteger.__mul__\u001b[0;34m(self, other)\u001b[0m\n\u001b[1;32m   2203\u001b[0m     \u001b[38;5;28;01mreturn\u001b[39;00m Integer(\u001b[38;5;28mself\u001b[39m\u001b[38;5;241m.\u001b[39mp\u001b[38;5;241m*\u001b[39mother)\n\u001b[1;32m   2204\u001b[0m \u001b[38;5;28;01melif\u001b[39;00m \u001b[38;5;28misinstance\u001b[39m(other, Integer):\n\u001b[0;32m-> 2205\u001b[0m     \u001b[38;5;28;01mreturn\u001b[39;00m \u001b[43mInteger\u001b[49m\u001b[43m(\u001b[49m\u001b[38;5;28;43mself\u001b[39;49m\u001b[38;5;241;43m.\u001b[39;49m\u001b[43mp\u001b[49m\u001b[38;5;241;43m*\u001b[39;49m\u001b[43mother\u001b[49m\u001b[38;5;241;43m.\u001b[39;49m\u001b[43mp\u001b[49m\u001b[43m)\u001b[49m\n\u001b[1;32m   2206\u001b[0m \u001b[38;5;28;01melif\u001b[39;00m \u001b[38;5;28misinstance\u001b[39m(other, Rational):\n\u001b[1;32m   2207\u001b[0m     \u001b[38;5;28;01mreturn\u001b[39;00m Rational(\u001b[38;5;28mself\u001b[39m\u001b[38;5;241m.\u001b[39mp\u001b[38;5;241m*\u001b[39mother\u001b[38;5;241m.\u001b[39mp, other\u001b[38;5;241m.\u001b[39mq, igcd(\u001b[38;5;28mself\u001b[39m\u001b[38;5;241m.\u001b[39mp, other\u001b[38;5;241m.\u001b[39mq))\n",
      "File \u001b[0;32m~/opt/anaconda3/lib/python3.8/site-packages/sympy/core/cache.py:70\u001b[0m, in \u001b[0;36m__cacheit.<locals>.func_wrapper.<locals>.wrapper\u001b[0;34m(*args, **kwargs)\u001b[0m\n\u001b[1;32m     67\u001b[0m \u001b[38;5;129m@wraps\u001b[39m(func)\n\u001b[1;32m     68\u001b[0m \u001b[38;5;28;01mdef\u001b[39;00m \u001b[38;5;21mwrapper\u001b[39m(\u001b[38;5;241m*\u001b[39margs, \u001b[38;5;241m*\u001b[39m\u001b[38;5;241m*\u001b[39mkwargs):\n\u001b[1;32m     69\u001b[0m     \u001b[38;5;28;01mtry\u001b[39;00m:\n\u001b[0;32m---> 70\u001b[0m         retval \u001b[38;5;241m=\u001b[39m \u001b[43mcfunc\u001b[49m\u001b[43m(\u001b[49m\u001b[38;5;241;43m*\u001b[39;49m\u001b[43margs\u001b[49m\u001b[43m,\u001b[49m\u001b[43m \u001b[49m\u001b[38;5;241;43m*\u001b[39;49m\u001b[38;5;241;43m*\u001b[39;49m\u001b[43mkwargs\u001b[49m\u001b[43m)\u001b[49m\n\u001b[1;32m     71\u001b[0m     \u001b[38;5;28;01mexcept\u001b[39;00m \u001b[38;5;167;01mTypeError\u001b[39;00m \u001b[38;5;28;01mas\u001b[39;00m e:\n\u001b[1;32m     72\u001b[0m         \u001b[38;5;28;01mif\u001b[39;00m \u001b[38;5;129;01mnot\u001b[39;00m e\u001b[38;5;241m.\u001b[39margs \u001b[38;5;129;01mor\u001b[39;00m \u001b[38;5;129;01mnot\u001b[39;00m e\u001b[38;5;241m.\u001b[39margs[\u001b[38;5;241m0\u001b[39m]\u001b[38;5;241m.\u001b[39mstartswith(\u001b[38;5;124m'\u001b[39m\u001b[38;5;124munhashable type:\u001b[39m\u001b[38;5;124m'\u001b[39m):\n",
      "\u001b[0;31mKeyboardInterrupt\u001b[0m: "
     ]
    }
   ],
   "source": [
    "c_m1m1m1 = smp.integrate(l_mu1**3*bi_pdf, (x, -smp.oo,smp.oo), (y, -smp.oo, smp.oo))"
   ]
  },
  {
   "cell_type": "code",
   "execution_count": 17,
   "id": "c646806b",
   "metadata": {},
   "outputs": [
    {
     "data": {
      "text/latex": [
       "$\\displaystyle \\frac{\\sqrt{2} s_{1} \\left(- \\frac{\\sqrt{2} \\pi \\left(3 - \\mu_{1}\\right) e^{\\frac{\\left(3 - \\mu_{1}\\right)^{2}}{2 s_{1}^{2}}} \\operatorname{erf}{\\left(\\frac{\\sqrt{2} \\cdot \\left(3 - \\mu_{1}\\right)}{2 s_{1}} \\right)}}{2 s_{1}} + \\frac{\\sqrt{2} \\pi \\left(3 - \\mu_{1}\\right) e^{\\frac{\\left(3 - \\mu_{1}\\right)^{2}}{2 s_{1}^{2}}}}{2 s_{1}}\\right) e^{\\frac{- \\frac{\\mu_{1}^{2}}{2} + 3 \\mu_{1} - \\frac{9}{2}}{s_{1}^{2}}}}{2 \\pi \\left(3 - \\mu_{1}\\right)}$"
      ],
      "text/plain": [
       "sqrt(2)*s1*(-sqrt(2)*pi*(3 - mu1)*exp((3 - mu1)**2/(2*s1**2))*erf(sqrt(2)*(3 - mu1)/(2*s1))/(2*s1) + sqrt(2)*pi*(3 - mu1)*exp((3 - mu1)**2/(2*s1**2))/(2*s1))*exp((-mu1**2/2 + 3*mu1 - 9/2)/s1**2)/(2*pi*(3 - mu1))"
      ]
     },
     "execution_count": 17,
     "metadata": {},
     "output_type": "execute_result"
    }
   ],
   "source": [
    "from sympy.stats import P, E, variance, Die, Normal\n",
    "from sympy import simplify\n",
    "X, Y = Normal('X', mu1, s1  ), Normal('Y', mu2, s2) # Define two six sided dice\n",
    "P(X>3) # Probability X is greater than 3"
   ]
  },
  {
   "cell_type": "code",
   "execution_count": 18,
   "id": "156c22e5",
   "metadata": {
    "scrolled": true
   },
   "outputs": [
    {
     "data": {
      "text/latex": [
       "$\\displaystyle \\mu_{1} + \\mu_{2}$"
      ],
      "text/plain": [
       "mu1 + mu2"
      ]
     },
     "execution_count": 18,
     "metadata": {},
     "output_type": "execute_result"
    }
   ],
   "source": [
    "E(X+Y) # Expectation of the sum of normal distributions"
   ]
  },
  {
   "cell_type": "code",
   "execution_count": 19,
   "id": "2c796ae7",
   "metadata": {
    "scrolled": true
   },
   "outputs": [
    {
     "data": {
      "text/latex": [
       "$\\displaystyle \\mu_{1}^{2} + s_{1}^{2}$"
      ],
      "text/plain": [
       "mu1**2 + s1**2"
      ]
     },
     "execution_count": 19,
     "metadata": {},
     "output_type": "execute_result"
    }
   ],
   "source": [
    "E(X**2)"
   ]
  },
  {
   "cell_type": "code",
   "execution_count": 20,
   "id": "956101fe",
   "metadata": {},
   "outputs": [
    {
     "data": {
      "text/latex": [
       "$\\displaystyle \\mu_{1}^{3} + 3 \\mu_{1} s_{1}^{2}$"
      ],
      "text/plain": [
       "mu1**3 + 3*mu1*s1**2"
      ]
     },
     "execution_count": 20,
     "metadata": {},
     "output_type": "execute_result"
    }
   ],
   "source": [
    "E(X**3)"
   ]
  },
  {
   "cell_type": "code",
   "execution_count": 21,
   "id": "cf979bf0",
   "metadata": {},
   "outputs": [
    {
     "data": {
      "text/latex": [
       "$\\displaystyle \\mu_{1} \\mu_{2}$"
      ],
      "text/plain": [
       "mu1*mu2"
      ]
     },
     "execution_count": 21,
     "metadata": {},
     "output_type": "execute_result"
    }
   ],
   "source": [
    "E(X*Y)"
   ]
  },
  {
   "cell_type": "code",
   "execution_count": 78,
   "id": "9e965275",
   "metadata": {},
   "outputs": [],
   "source": [
    "# April 4th, 2023\n",
    "# Redefine all variables and derivatives\n",
    "\n",
    "l_mu1 = (X-mu1)/(s1**2) # might have to change x to X for normal distribution\n",
    "l_mu2 = (Y-mu2)/(s2**2)\n",
    "l_s1 = (X-mu1)**2/(2*s1**4)-1/(2*s1**2)\n",
    "l_s2 = (Y-mu2)**2/(2*s2**4)-1/(2*s2**2)\n",
    "\n",
    "# derivative w.r.t. sigma^2\n",
    "l_s1_sq = (X-mu1)**2/s1**3 - s1**(-1)\n",
    "l_s2_sq = (Y-mu2)**2/s2**3 - s2**(-1)\n",
    "\n",
    "derv = [l_mu1, l_s1, l_mu2, l_s2] # derivatives w.r.t t1,...,t4\n",
    "derv[1]\n",
    "# with squared derivatives\n",
    "derv_sq = [l_mu1, l_s1_sq, l_mu2, l_s2_sq]"
   ]
  },
  {
   "cell_type": "code",
   "execution_count": 79,
   "id": "9afbfd26",
   "metadata": {},
   "outputs": [
    {
     "data": {
      "text/latex": [
       "$\\displaystyle - \\frac{1}{s_{1}} + \\frac{\\left(- \\mu_{1} + X\\right)^{2}}{s_{1}^{3}}$"
      ],
      "text/plain": [
       "-1/s1 + (-mu1 + X)**2/s1**3"
      ]
     },
     "execution_count": 79,
     "metadata": {},
     "output_type": "execute_result"
    }
   ],
   "source": [
    "l_s1_sq"
   ]
  },
  {
   "cell_type": "code",
   "execution_count": 80,
   "id": "7427b5de",
   "metadata": {},
   "outputs": [],
   "source": [
    "# Amari-Chentsov Tensor Matrix\n",
    "l_mu1_X = (X-mu1)/(s1**2)\n",
    "\n",
    "# check to see T_111 is equal to 0; it is\n",
    "E(l_mu1_X**3)\n",
    "smp.simplify(E(l_mu1_X**3))\n",
    "\n",
    "smp_dtype = type(E(l_mu1_X**3))"
   ]
  },
  {
   "cell_type": "code",
   "execution_count": 81,
   "id": "6dda7bff",
   "metadata": {},
   "outputs": [],
   "source": [
    "# step 4\n",
    "T = np.zeros((4,4,4), dtype = smp_dtype)\n",
    "for i in range(4):\n",
    "    for j in range(4):\n",
    "        for k in range(4):\n",
    "            T[i][j][k] = smp.simplify(E(derv_sq[i]*derv_sq[j]*derv_sq[k]))"
   ]
  },
  {
   "cell_type": "code",
   "execution_count": 82,
   "id": "648cb0eb",
   "metadata": {},
   "outputs": [
    {
     "data": {
      "text/plain": [
       "array([[[0, 2/s1**3, 0, 0],\n",
       "        [2/s1**3, 0, 0, 0],\n",
       "        [0, 0, 0, 0],\n",
       "        [0, 0, 0, 0]],\n",
       "\n",
       "       [[2/s1**3, 0, 0, 0],\n",
       "        [0, 8/s1**3, 0, 0],\n",
       "        [0, 0, 0, 0],\n",
       "        [0, 0, 0, 0]],\n",
       "\n",
       "       [[0, 0, 0, 0],\n",
       "        [0, 0, 0, 0],\n",
       "        [0, 0, 0, 2/s2**3],\n",
       "        [0, 0, 2/s2**3, 0]],\n",
       "\n",
       "       [[0, 0, 0, 0],\n",
       "        [0, 0, 0, 0],\n",
       "        [0, 0, 2/s2**3, 0],\n",
       "        [0, 0, 0, 8/s2**3]]], dtype=object)"
      ]
     },
     "execution_count": 82,
     "metadata": {},
     "output_type": "execute_result"
    }
   ],
   "source": [
    "T"
   ]
  },
  {
   "cell_type": "code",
   "execution_count": 40,
   "id": "70890a54",
   "metadata": {},
   "outputs": [
    {
     "data": {
      "text/latex": [
       "$\\displaystyle \\frac{1}{s_{1}^{6}}$"
      ],
      "text/plain": [
       "s1**(-6)"
      ]
     },
     "execution_count": 40,
     "metadata": {},
     "output_type": "execute_result"
    }
   ],
   "source": [
    "smp.simplify(E(l_s1**3))"
   ]
  },
  {
   "cell_type": "code",
   "execution_count": 83,
   "id": "9548571a",
   "metadata": {},
   "outputs": [],
   "source": [
    "# step 5\n",
    "# Assunming Cubic Tensor is correct, will now create alpha-christoffel symbol\n",
    "\n",
    "def alpha_chrst(a):\n",
    "    a_chrst = np.zeros((4,4,4), dtype = smp_dtype)\n",
    "    for i in range(4):\n",
    "        for j in range(4):\n",
    "            for k in range(4):\n",
    "                a_chrst[i][j][k] = H2_chrst[i][j][k] + (a/2)*T[i][j][k]\n",
    "    return a_chrst"
   ]
  },
  {
   "cell_type": "code",
   "execution_count": 84,
   "id": "4ddce46e",
   "metadata": {},
   "outputs": [],
   "source": [
    "zero_alpha = alpha_chrst(0)"
   ]
  },
  {
   "cell_type": "code",
   "execution_count": 85,
   "id": "aa25bbd3",
   "metadata": {
    "scrolled": true
   },
   "outputs": [
    {
     "data": {
      "text/plain": [
       "array([[[0, 0.5/s1, 0, 0],\n",
       "        [-0.5/s1, 0, 0, 0],\n",
       "        [0, 0, 0, 0],\n",
       "        [0, 0, 0, 0]],\n",
       "\n",
       "       [[-0.5/s1, 0, 0, 0],\n",
       "        [0, -0.5/s1, 0, 0],\n",
       "        [0, 0, 0, 0],\n",
       "        [0, 0, 0, 0]],\n",
       "\n",
       "       [[0, 0, 0, 0],\n",
       "        [0, 0, 0, 0],\n",
       "        [0, 0, 0, 0.5/s2],\n",
       "        [0, 0, -0.5/s2, 0]],\n",
       "\n",
       "       [[0, 0, 0, 0],\n",
       "        [0, 0, 0, 0],\n",
       "        [0, 0, -0.5/s2, 0],\n",
       "        [0, 0, 0, -0.5/s2]]], dtype=object)"
      ]
     },
     "execution_count": 85,
     "metadata": {},
     "output_type": "execute_result"
    }
   ],
   "source": [
    "zero_alpha"
   ]
  },
  {
   "cell_type": "code",
   "execution_count": 72,
   "id": "a35ba4ce",
   "metadata": {},
   "outputs": [
    {
     "data": {
      "text/latex": [
       "$\\displaystyle - \\frac{0.5}{s_{1}^{2}}$"
      ],
      "text/plain": [
       "-0.5/s1**2"
      ]
     },
     "execution_count": 72,
     "metadata": {},
     "output_type": "execute_result"
    }
   ],
   "source": [
    "sum1 = 0\n",
    "sum2 = 0\n",
    "for p in range(4):\n",
    "    sum1 += (zero_alpha[0][1][p]*zero_alpha[1][p][0])\n",
    "    sum2 += (zero_alpha[1][1][p]*zero_alpha[0][p][0])\n",
    "sum1-sum2\n",
    "    \n",
    "    "
   ]
  },
  {
   "cell_type": "code",
   "execution_count": 88,
   "id": "23f2adc8",
   "metadata": {},
   "outputs": [
    {
     "name": "stdout",
     "output_type": "stream",
     "text": [
      "-0.5/s1\n",
      "-0.5/s1\n",
      "-0.5/s1\n",
      "-0.5/s1\n"
     ]
    }
   ],
   "source": [
    "sum1 = 0\n",
    "sum2 = 0\n",
    "sum3 = 0\n",
    "sum4 = 0\n",
    "\n",
    "for p in range(4):\n",
    "    sum1 += zero_alpha[0][1][p]\n",
    "    sum2 += zero_alpha[1][p][0]\n",
    "    sum3 += zero_alpha[1][1][p]\n",
    "    sum4 += zero_alpha[0][p][0]\n",
    "\n",
    "\n",
    "print(sum1)\n",
    "print(sum2)\n",
    "print(sum3)\n",
    "print(sum4)\n",
    "#print(sum1*sum2)\n",
    "#print(sum3*sum4)"
   ]
  },
  {
   "cell_type": "code",
   "execution_count": 54,
   "id": "8d201455",
   "metadata": {},
   "outputs": [
    {
     "name": "stdout",
     "output_type": "stream",
     "text": [
      "[[[0 -0.5/s1 + 1.0/s1**3 0 0]\n",
      "  [-0.5/s1 + 1.0/s1**3 0 0 0]\n",
      "  [0 0 0 0]\n",
      "  [0 0 0 0]]\n",
      "\n",
      " [[0.5/s1 + 1.0/s1**3 0 0 0]\n",
      "  [0 -0.5/s1 + 4.0/s1**3 0 0]\n",
      "  [0 0 0 0]\n",
      "  [0 0 0 0]]\n",
      "\n",
      " [[0 0 0 0]\n",
      "  [0 0 0 0]\n",
      "  [0 0 0 -0.5/s2 + 1.0/s2**3]\n",
      "  [0 0 -0.5/s2 + 1.0/s2**3 0]]\n",
      "\n",
      " [[0 0 0 0]\n",
      "  [0 0 0 0]\n",
      "  [0 0 0.5/s2 + 1.0/s2**3 0]\n",
      "  [0 0 0 -0.5/s2 + 4.0/s2**3]]]\n"
     ]
    }
   ],
   "source": [
    "print(alpha_chrst(1))"
   ]
  },
  {
   "cell_type": "code",
   "execution_count": 86,
   "id": "a1dcb5cb",
   "metadata": {},
   "outputs": [],
   "source": [
    "# step 6\n",
    "R = np.zeros((4,4,4,4), dtype = smp_dtype)\n",
    "partials = [mu1, s1, mu2, s2]\n",
    "\n",
    "def alpha_tensor(a):\n",
    "    ac = alpha_chrst(a) # alpha christoffel symbol\n",
    "    R = np.zeros((4,4,4,4), dtype = smp_dtype)\n",
    "    for i in range(4):\n",
    "        for j in range(4):\n",
    "            for k in range(4):\n",
    "                for l in range(4):\n",
    "                    chrst_ikp = 0\n",
    "                    chrst_jpl = 0\n",
    "                    chrst_jkp = 0\n",
    "                    chrst_ipl = 0\n",
    "                    for p in range(4):\n",
    "                        chrst_ikp += ac[i][k][p]\n",
    "                        chrst_jpl += ac[j][p][l]\n",
    "                        chrst_jkp += ac[j][k][p]\n",
    "                        chrst_ipl += ac[i][p][l]\n",
    "                    \n",
    "                    # now plug in to formula\n",
    "                    \n",
    "                    R[i][j][k][l] = smp.diff(ac[i][k][l],partials[j]) - smp.diff(ac[j][k][l], partials[i]) + \\\n",
    "                    (chrst_ikp*chrst_jpl - chrst_jkp*chrst_ipl)\n",
    "                    \n",
    "                    \n",
    "    return R"
   ]
  },
  {
   "cell_type": "code",
   "execution_count": 89,
   "id": "7051a5dd",
   "metadata": {},
   "outputs": [
    {
     "data": {
      "text/latex": [
       "$\\displaystyle - \\frac{0.25}{s_{1} s_{2}}$"
      ],
      "text/plain": [
       "-0.25/(s1*s2)"
      ]
     },
     "execution_count": 89,
     "metadata": {},
     "output_type": "execute_result"
    }
   ],
   "source": [
    "alpha_tensor(0)[0][2][0][2]"
   ]
  },
  {
   "cell_type": "code",
   "execution_count": 90,
   "id": "b64fd728",
   "metadata": {},
   "outputs": [],
   "source": [
    "# step 6 (test) not how you're supposed to do einstein notation\n",
    "R = np.zeros((4,4,4,4), dtype = smp_dtype)\n",
    "partials = [mu1, s1, mu2, s2]\n",
    "\n",
    "def test_alpha_tensor(a):\n",
    "    ac = alpha_chrst(a) # alpha christoffel symbol\n",
    "    R = np.zeros((4,4,4,4), dtype = smp_dtype)\n",
    "    for i in range(4):\n",
    "        for j in range(4):\n",
    "            for k in range(4):\n",
    "                for l in range(4):\n",
    "                    sum1 = 0\n",
    "                    sum2 = 0\n",
    "                    for p in range(4):\n",
    "                        sum1 += ac[i][k][p]*ac[j][p][l]\n",
    "                        sum2 += ac[j][k][p]*ac[i][p][l]\n",
    "                    \n",
    "                    # now plug in to formula\n",
    "                    \n",
    "                    R[i][j][k][l] = smp.diff(ac[i][k][l],partials[j]) - smp.diff(ac[j][k][l], partials[i]) + \\\n",
    "                    (sum1 - sum2)\n",
    "                    \n",
    "    return R"
   ]
  },
  {
   "cell_type": "code",
   "execution_count": 91,
   "id": "83d5d13a",
   "metadata": {},
   "outputs": [
    {
     "data": {
      "text/plain": [
       "array([[[[0, 0, 0, 0],\n",
       "         [0, 0, 0, 0],\n",
       "         [0, 0, 0, 0],\n",
       "         [0, 0, 0, 0]],\n",
       "\n",
       "        [[0, -0.5/s1**2, 0, 0],\n",
       "         [0.5/s1**2, 0, 0, 0],\n",
       "         [0, 0, 0, 0],\n",
       "         [0, 0, 0, 0]],\n",
       "\n",
       "        [[0, 0, 0, 0],\n",
       "         [0, 0, 0, 0],\n",
       "         [0, 0, 0, 0],\n",
       "         [0, 0, 0, 0]],\n",
       "\n",
       "        [[0, 0, 0, 0],\n",
       "         [0, 0, 0, 0],\n",
       "         [0, 0, 0, 0],\n",
       "         [0, 0, 0, 0]]],\n",
       "\n",
       "\n",
       "       [[[0, 0.5/s1**2, 0, 0],\n",
       "         [-0.5/s1**2, 0, 0, 0],\n",
       "         [0, 0, 0, 0],\n",
       "         [0, 0, 0, 0]],\n",
       "\n",
       "        [[0, 0, 0, 0],\n",
       "         [0, 0, 0, 0],\n",
       "         [0, 0, 0, 0],\n",
       "         [0, 0, 0, 0]],\n",
       "\n",
       "        [[0, 0, 0, 0],\n",
       "         [0, 0, 0, 0],\n",
       "         [0, 0, 0, 0],\n",
       "         [0, 0, 0, 0]],\n",
       "\n",
       "        [[0, 0, 0, 0],\n",
       "         [0, 0, 0, 0],\n",
       "         [0, 0, 0, 0],\n",
       "         [0, 0, 0, 0]]],\n",
       "\n",
       "\n",
       "       [[[0, 0, 0, 0],\n",
       "         [0, 0, 0, 0],\n",
       "         [0, 0, 0, 0],\n",
       "         [0, 0, 0, 0]],\n",
       "\n",
       "        [[0, 0, 0, 0],\n",
       "         [0, 0, 0, 0],\n",
       "         [0, 0, 0, 0],\n",
       "         [0, 0, 0, 0]],\n",
       "\n",
       "        [[0, 0, 0, 0],\n",
       "         [0, 0, 0, 0],\n",
       "         [0, 0, 0, 0],\n",
       "         [0, 0, 0, 0]],\n",
       "\n",
       "        [[0, 0, 0, 0],\n",
       "         [0, 0, 0, 0],\n",
       "         [0, 0, 0, -0.5/s2**2],\n",
       "         [0, 0, 0.5/s2**2, 0]]],\n",
       "\n",
       "\n",
       "       [[[0, 0, 0, 0],\n",
       "         [0, 0, 0, 0],\n",
       "         [0, 0, 0, 0],\n",
       "         [0, 0, 0, 0]],\n",
       "\n",
       "        [[0, 0, 0, 0],\n",
       "         [0, 0, 0, 0],\n",
       "         [0, 0, 0, 0],\n",
       "         [0, 0, 0, 0]],\n",
       "\n",
       "        [[0, 0, 0, 0],\n",
       "         [0, 0, 0, 0],\n",
       "         [0, 0, 0, 0.5/s2**2],\n",
       "         [0, 0, -0.5/s2**2, 0]],\n",
       "\n",
       "        [[0, 0, 0, 0],\n",
       "         [0, 0, 0, 0],\n",
       "         [0, 0, 0, 0],\n",
       "         [0, 0, 0, 0]]]], dtype=object)"
      ]
     },
     "execution_count": 91,
     "metadata": {},
     "output_type": "execute_result"
    }
   ],
   "source": [
    "test_alpha_tensor(0)"
   ]
  },
  {
   "cell_type": "code",
   "execution_count": 96,
   "id": "c1f4e0db",
   "metadata": {},
   "outputs": [],
   "source": [
    "# step 7: calculate alpha_R_ijkl\n",
    "g = np.zeros((4,4), dtype = smp_dtype) # for H2xH2\n",
    "g[0][0] = 1/s1\n",
    "g[1][1] = 1/s1\n",
    "g[2][2] = 1/s2\n",
    "g[3][3] = 1/s2\n",
    "\n",
    "def sum_R_ijkl(a):\n",
    "    R = np.zeros((4,4,4,4), dtype = smp_dtype)\n",
    "    tensor = alpha_tensor(a)\n",
    "    for i in range(4):\n",
    "        for j in range(4):\n",
    "            for k in range(4):\n",
    "                for l in range(4):\n",
    "                    for s in range(4):\n",
    "                        R[i][j][k][l] += tensor[i][j][k][s]*g[l][s]\n",
    "    return R"
   ]
  },
  {
   "cell_type": "code",
   "execution_count": 97,
   "id": "d7f27475",
   "metadata": {},
   "outputs": [
    {
     "data": {
      "text/plain": [
       "array([[[[0, 0, 0, 0],\n",
       "         [0, 0, 0, 0],\n",
       "         [0, 0, 0, 0],\n",
       "         [0, 0, 0, 0]],\n",
       "\n",
       "        [[-0.5/s1**3, -0.5/s1**3, 0, 0],\n",
       "         [0.5/s1**3, 0.5/s1**3, 0, 0],\n",
       "         [0, 0, 0, 0],\n",
       "         [0, 0, 0, 0]],\n",
       "\n",
       "        [[0, 0, -0.25/(s1*s2**2), 0.25/(s1*s2**2)],\n",
       "         [0, 0, 0.25/(s1*s2**2), -0.25/(s1*s2**2)],\n",
       "         [0.25/(s1**2*s2), -0.25/(s1**2*s2), 0, 0],\n",
       "         [-0.25/(s1**2*s2), 0.25/(s1**2*s2), 0, 0]],\n",
       "\n",
       "        [[0, 0, -0.25/(s1*s2**2), -0.25/(s1*s2**2)],\n",
       "         [0, 0, 0.25/(s1*s2**2), 0.25/(s1*s2**2)],\n",
       "         [-0.25/(s1**2*s2), 0.25/(s1**2*s2), 0, 0],\n",
       "         [-0.25/(s1**2*s2), 0.25/(s1**2*s2), 0, 0]]],\n",
       "\n",
       "\n",
       "       [[[0.5/s1**3, 0.5/s1**3, 0, 0],\n",
       "         [-0.5/s1**3, -0.5/s1**3, 0, 0],\n",
       "         [0, 0, 0, 0],\n",
       "         [0, 0, 0, 0]],\n",
       "\n",
       "        [[0, 0, 0, 0],\n",
       "         [0, 0, 0, 0],\n",
       "         [0, 0, 0, 0],\n",
       "         [0, 0, 0, 0]],\n",
       "\n",
       "        [[0, 0, 0.25/(s1*s2**2), -0.25/(s1*s2**2)],\n",
       "         [0, 0, 0.25/(s1*s2**2), -0.25/(s1*s2**2)],\n",
       "         [0.25/(s1**2*s2), 0.25/(s1**2*s2), 0, 0],\n",
       "         [-0.25/(s1**2*s2), -0.25/(s1**2*s2), 0, 0]],\n",
       "\n",
       "        [[0, 0, 0.25/(s1*s2**2), 0.25/(s1*s2**2)],\n",
       "         [0, 0, 0.25/(s1*s2**2), 0.25/(s1*s2**2)],\n",
       "         [-0.25/(s1**2*s2), -0.25/(s1**2*s2), 0, 0],\n",
       "         [-0.25/(s1**2*s2), -0.25/(s1**2*s2), 0, 0]]],\n",
       "\n",
       "\n",
       "       [[[0, 0, 0.25/(s1*s2**2), -0.25/(s1*s2**2)],\n",
       "         [0, 0, -0.25/(s1*s2**2), 0.25/(s1*s2**2)],\n",
       "         [-0.25/(s1**2*s2), 0.25/(s1**2*s2), 0, 0],\n",
       "         [0.25/(s1**2*s2), -0.25/(s1**2*s2), 0, 0]],\n",
       "\n",
       "        [[0, 0, -0.25/(s1*s2**2), 0.25/(s1*s2**2)],\n",
       "         [0, 0, -0.25/(s1*s2**2), 0.25/(s1*s2**2)],\n",
       "         [-0.25/(s1**2*s2), -0.25/(s1**2*s2), 0, 0],\n",
       "         [0.25/(s1**2*s2), 0.25/(s1**2*s2), 0, 0]],\n",
       "\n",
       "        [[0, 0, 0, 0],\n",
       "         [0, 0, 0, 0],\n",
       "         [0, 0, 0, 0],\n",
       "         [0, 0, 0, 0]],\n",
       "\n",
       "        [[0, 0, 0, 0],\n",
       "         [0, 0, 0, 0],\n",
       "         [0, 0, -0.5/s2**3, -0.5/s2**3],\n",
       "         [0, 0, 0.5/s2**3, 0.5/s2**3]]],\n",
       "\n",
       "\n",
       "       [[[0, 0, 0.25/(s1*s2**2), 0.25/(s1*s2**2)],\n",
       "         [0, 0, -0.25/(s1*s2**2), -0.25/(s1*s2**2)],\n",
       "         [0.25/(s1**2*s2), -0.25/(s1**2*s2), 0, 0],\n",
       "         [0.25/(s1**2*s2), -0.25/(s1**2*s2), 0, 0]],\n",
       "\n",
       "        [[0, 0, -0.25/(s1*s2**2), -0.25/(s1*s2**2)],\n",
       "         [0, 0, -0.25/(s1*s2**2), -0.25/(s1*s2**2)],\n",
       "         [0.25/(s1**2*s2), 0.25/(s1**2*s2), 0, 0],\n",
       "         [0.25/(s1**2*s2), 0.25/(s1**2*s2), 0, 0]],\n",
       "\n",
       "        [[0, 0, 0, 0],\n",
       "         [0, 0, 0, 0],\n",
       "         [0, 0, 0.5/s2**3, 0.5/s2**3],\n",
       "         [0, 0, -0.5/s2**3, -0.5/s2**3]],\n",
       "\n",
       "        [[0, 0, 0, 0],\n",
       "         [0, 0, 0, 0],\n",
       "         [0, 0, 0, 0],\n",
       "         [0, 0, 0, 0]]]], dtype=object)"
      ]
     },
     "execution_count": 97,
     "metadata": {},
     "output_type": "execute_result"
    }
   ],
   "source": [
    "sum_R_ijkl(0)"
   ]
  },
  {
   "cell_type": "code",
   "execution_count": 100,
   "id": "be07d447",
   "metadata": {},
   "outputs": [],
   "source": [
    "# step 8: calculating sectional curvature (numerator)\n",
    "u1, u2, u3, u4 = smp.symbols('u1 u2 u3 u4', real=True)\n",
    "v1, v2, v3, v4 = smp.symbols('v1 v2 v3 v4', real=True)\n",
    "#u = [u1,u2,u3,u4]\n",
    "#v = [v1,v2,v3,v4]\n",
    "u = [1,4,1,6]\n",
    "v = [-1,2,3,-7]\n",
    "\n",
    "# inner product function\n",
    "def dot(u,v):\n",
    "    return np.dot(u,v)\n",
    "\n",
    "# calculating numerator since denominator always positive\n",
    "def calculate_sectional_curvature(a):\n",
    "    R = sum_R_ijkl(a)\n",
    "    numerator = 0\n",
    "    denominator = dot(u,u)*dot(v,v)-(dot(u,v)**2)\n",
    "    for i in range(4):\n",
    "        for j in range(4):\n",
    "            for k in range(4):\n",
    "                for l in range(4):\n",
    "                    numerator += v[j]*u[i]*R[i][j][k][l]*u[l]*v[k]\n",
    "    \n",
    "    sectional_curvature = smp.simplify(numerator) / denominator\n",
    "    #return sectional_curvature\n",
    "    return smp.simplify(numerator)"
   ]
  },
  {
   "cell_type": "code",
   "execution_count": 101,
   "id": "9c600225",
   "metadata": {},
   "outputs": [
    {
     "data": {
      "text/latex": [
       "$\\displaystyle \\frac{71289.0}{s_{2}^{3}} - \\frac{13104301.75}{s_{1} s_{2}^{2}} - \\frac{55077.0}{s_{1}^{2} s_{2}} + \\frac{20470.0}{s_{1}^{3}}$"
      ],
      "text/plain": [
       "71289.0/s2**3 - 13104301.75/(s1*s2**2) - 55077.0/(s1**2*s2) + 20470.0/s1**3"
      ]
     },
     "execution_count": 101,
     "metadata": {},
     "output_type": "execute_result"
    }
   ],
   "source": [
    "calculate_sectional_curvature(0)"
   ]
  },
  {
   "cell_type": "code",
   "execution_count": 344,
   "id": "d8c870c5",
   "metadata": {},
   "outputs": [
    {
     "data": {
      "text/latex": [
       "$\\displaystyle \\text{True}$"
      ],
      "text/plain": [
       "True"
      ]
     },
     "execution_count": 344,
     "metadata": {},
     "output_type": "execute_result"
    }
   ],
   "source": [
    "s1 > 0"
   ]
  },
  {
   "cell_type": "markdown",
   "id": "190e6572",
   "metadata": {},
   "source": [
    "# For S2XS2"
   ]
  },
  {
   "cell_type": "code",
   "execution_count": 245,
   "id": "95fe86da",
   "metadata": {},
   "outputs": [],
   "source": [
    "tha1, phi1, tha2, phi2 = smp.symbols('tha1 phi1 tha2 phi2', real=True)\n",
    "G = np.zeros((4,4), dtype = smp_dtype)\n",
    "G[0][0] = 1\n",
    "G[1][1] = smp.sin(tha1)**2\n",
    "G[2][2] = 1\n",
    "G[3][3] = smp.sin(tha2)**2\n",
    "\n",
    "G_inv = np.zeros((4,4), dtype = smp_dtype)\n",
    "G_inv[0][0] = 1\n",
    "G_inv[1][1] = 1/(smp.sin(tha1)**2)\n",
    "G_inv[2][2] = 1\n",
    "G_inv[3][3] = 1/(smp.sin(tha2)**2)"
   ]
  },
  {
   "cell_type": "code",
   "execution_count": 300,
   "id": "c2b89e71",
   "metadata": {},
   "outputs": [
    {
     "name": "stdout",
     "output_type": "stream",
     "text": [
      "[[[0 0 0 0]\n",
      "  [0 -0.5*sin(2*tha1) 0 0]\n",
      "  [0 0 0 0]\n",
      "  [0 0 0 0]]\n",
      "\n",
      " [[0 1.0/tan(tha1) 0 0]\n",
      "  [1.0/tan(tha1) 0 0 0]\n",
      "  [0 0 0 0]\n",
      "  [0 0 0 0]]\n",
      "\n",
      " [[0 0 0 0]\n",
      "  [0 0 0 0]\n",
      "  [0 0 0 0]\n",
      "  [0 0 0 -0.5*sin(2*tha2)]]\n",
      "\n",
      " [[0 0 0 0]\n",
      "  [0 0 0 0]\n",
      "  [0 0 0 1.0/tan(tha2)]\n",
      "  [0 0 1.0/tan(tha2) 0]]]\n"
     ]
    }
   ],
   "source": [
    "# calculating christoffel symbols\n",
    "\n",
    "var = [tha1, phi1, tha2, phi2]\n",
    "\n",
    "def calc_s2_chrst():\n",
    "    s2_chrst = np.zeros((4,4,4), dtype = smp_dtype)\n",
    "    for k in range(4):\n",
    "        for i in range(4): \n",
    "            for j in range(4):\n",
    "                for m in range(4):\n",
    "                    s2_chrst[k][i][j] += (1/2)*G_inv[k][m]*(smp.diff(G[m][i],var[j]) + smp.diff(G[m][j],var[i]) - smp.diff(G[i][j],var[m]))\n",
    "                s2_chrst[k][i][j] = smp.simplify(s2_chrst[k][i][j])\n",
    "    return s2_chrst\n",
    "\n",
    "print(calc_s2_chrst())"
   ]
  },
  {
   "cell_type": "code",
   "execution_count": 301,
   "id": "80e9ebdb",
   "metadata": {},
   "outputs": [],
   "source": [
    "s2_chrst = calc_s2_chrst()"
   ]
  },
  {
   "cell_type": "code",
   "execution_count": 302,
   "id": "6a6991b0",
   "metadata": {},
   "outputs": [
    {
     "data": {
      "text/latex": [
       "$\\displaystyle \\frac{1.0}{\\tan{\\left(tha_{2} \\right)}}$"
      ],
      "text/plain": [
       "1.0/tan(tha2)"
      ]
     },
     "execution_count": 302,
     "metadata": {},
     "output_type": "execute_result"
    }
   ],
   "source": [
    "s2_chrst[3][3][2] # checked all christoffel symbols and all match paper"
   ]
  },
  {
   "cell_type": "code",
   "execution_count": 303,
   "id": "4081ce75",
   "metadata": {},
   "outputs": [],
   "source": [
    "# Second step : computing the components of the curvature R\n",
    "\n",
    "def compute_s2_curvature_R():\n",
    "    R = np.zeros((4,4,4,4), dtype = smp_dtype)\n",
    "    for i in range(4):\n",
    "        for j in range(4):\n",
    "            for k in range(4):\n",
    "                for s in range(4):\n",
    "                    sum1 = 0\n",
    "                    sum2 = 0\n",
    "                    for l in range(4):\n",
    "                        sum1 += s2_chrst[i][k][l]*s2_chrst[l][j][s]\n",
    "                        sum2 += s2_chrst[j][k][l]*s2_chrst[i][k][s]\n",
    "                    \n",
    "                    R[i][j][k][s] = smp.diff(s2_chrst[i][k][s], var[j]) - smp.diff(s2_chrst[j][k][s], var[i]) \\\n",
    "                                    + sum1 - sum2\n",
    "                    R[i][j][k][s] = smp.simplify(R[i][j][k][s])\n",
    "    return R"
   ]
  },
  {
   "cell_type": "code",
   "execution_count": 304,
   "id": "7052fca7",
   "metadata": {},
   "outputs": [
    {
     "data": {
      "text/plain": [
       "array([[[[0, 0, 0, 0],\n",
       "         [0, -0.5*sin(2*tha1)/tan(tha1) + 0.125*cos(4*tha1) - 0.125, 0,\n",
       "          0],\n",
       "         [0, 0, 0, 0],\n",
       "         [0, 0, 0, 0]],\n",
       "\n",
       "        [[0, 1.0/sin(tha1)**2, 0, 0],\n",
       "         [-0.5*sin(2*tha1)/tan(tha1) - 2.0/(cos(2*tha1) - 1),\n",
       "          0.5*sin(2*tha1)/tan(tha1), 0, 0],\n",
       "         [0, 0, 0, 0],\n",
       "         [0, 0, 0, 0]],\n",
       "\n",
       "        [[0, 0, 0, 0],\n",
       "         [0, 0, 0, 0],\n",
       "         [0, 0, 0, 0],\n",
       "         [0, 0, 0, 0]],\n",
       "\n",
       "        [[0, 0, 0, 0],\n",
       "         [0, 0, 0, 0],\n",
       "         [0, 0, 0, 0],\n",
       "         [0, 0, 0, 0]]],\n",
       "\n",
       "\n",
       "       [[[0, -1.00000000000000, 0, 0],\n",
       "         [1.0*cos(tha1)**2 - 1.0/sin(tha1)**2, 0, 0, 0],\n",
       "         [0, 0, 0, 0],\n",
       "         [0, 0, 0, 0]],\n",
       "\n",
       "        [[1.0/tan(tha1)**2, -1.0/tan(tha1)**2, 0, 0],\n",
       "         [-1.0/tan(tha1)**2, -0.5*sin(2*tha1)/tan(tha1), 0, 0],\n",
       "         [0, 0, 0, 0],\n",
       "         [0, 0, 0, 0]],\n",
       "\n",
       "        [[0, 0, 0, 0],\n",
       "         [0, 0, 0, 0],\n",
       "         [0, 0, 0, 0],\n",
       "         [0, 0, 0, 0]],\n",
       "\n",
       "        [[0, 0, 0, 0],\n",
       "         [0, 0, 0, 0],\n",
       "         [0, 0, 0, 0],\n",
       "         [0, 0, 0, 0]]],\n",
       "\n",
       "\n",
       "       [[[0, 0, 0, 0],\n",
       "         [0, 0, 0, 0],\n",
       "         [0, 0, 0, 0],\n",
       "         [0, 0, 0, 0]],\n",
       "\n",
       "        [[0, 0, 0, 0],\n",
       "         [0, 0, 0, 0],\n",
       "         [0, 0, 0, 0],\n",
       "         [0, 0, 0, 0]],\n",
       "\n",
       "        [[0, 0, 0, 0],\n",
       "         [0, 0, 0, 0],\n",
       "         [0, 0, 0, 0],\n",
       "         [0, 0, 0,\n",
       "          -0.5*sin(2*tha2)/tan(tha2) + 0.125*cos(4*tha2) - 0.125]],\n",
       "\n",
       "        [[0, 0, 0, 0],\n",
       "         [0, 0, 0, 0],\n",
       "         [0, 0, 0, 1.0/sin(tha2)**2],\n",
       "         [0, 0, -0.5*sin(2*tha2)/tan(tha2) - 2.0/(cos(2*tha2) - 1),\n",
       "          0.5*sin(2*tha2)/tan(tha2)]]],\n",
       "\n",
       "\n",
       "       [[[0, 0, 0, 0],\n",
       "         [0, 0, 0, 0],\n",
       "         [0, 0, 0, 0],\n",
       "         [0, 0, 0, 0]],\n",
       "\n",
       "        [[0, 0, 0, 0],\n",
       "         [0, 0, 0, 0],\n",
       "         [0, 0, 0, 0],\n",
       "         [0, 0, 0, 0]],\n",
       "\n",
       "        [[0, 0, 0, 0],\n",
       "         [0, 0, 0, 0],\n",
       "         [0, 0, 0, -1.00000000000000],\n",
       "         [0, 0, 1.0*cos(tha2)**2 - 1.0/sin(tha2)**2, 0]],\n",
       "\n",
       "        [[0, 0, 0, 0],\n",
       "         [0, 0, 0, 0],\n",
       "         [0, 0, 1.0/tan(tha2)**2, -1.0/tan(tha2)**2],\n",
       "         [0, 0, -1.0/tan(tha2)**2, -0.5*sin(2*tha2)/tan(tha2)]]]],\n",
       "      dtype=object)"
      ]
     },
     "execution_count": 304,
     "metadata": {},
     "output_type": "execute_result"
    }
   ],
   "source": [
    "compute_s2_curvature_R()"
   ]
  },
  {
   "cell_type": "code",
   "execution_count": null,
   "id": "da3f955b",
   "metadata": {},
   "outputs": [],
   "source": []
  }
 ],
 "metadata": {
  "kernelspec": {
   "display_name": "Python 3 (ipykernel)",
   "language": "python",
   "name": "python3"
  },
  "language_info": {
   "codemirror_mode": {
    "name": "ipython",
    "version": 3
   },
   "file_extension": ".py",
   "mimetype": "text/x-python",
   "name": "python",
   "nbconvert_exporter": "python",
   "pygments_lexer": "ipython3",
   "version": "3.8.8"
  }
 },
 "nbformat": 4,
 "nbformat_minor": 5
}
